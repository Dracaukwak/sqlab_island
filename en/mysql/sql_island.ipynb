{
 "cells": [
  {
   "cell_type": "code",
   "execution_count": 1,
   "id": "eeaf28b1",
   "metadata": {
    "init_cell": true
   },
   "outputs": [
    {
     "name": "stdout",
     "output_type": "stream",
     "text": [
      "\u001b[92mUsing the existing connection file 'mysql/cnx.ini'.\u001b[0m\n"
     ]
    },
    {
     "data": {
      "text/html": [
       "<span style=\"None\">Connecting to &#x27;cnx&#x27;</span>"
      ],
      "text/plain": [
       "Connecting to 'cnx'"
      ]
     },
     "metadata": {},
     "output_type": "display_data"
    },
    {
     "data": {
      "text/html": [
       "<div>\n",
       "<style scoped>\n",
       "    .dataframe tbody tr th:only-of-type {\n",
       "        vertical-align: middle;\n",
       "    }\n",
       "\n",
       "    .dataframe tbody tr th {\n",
       "        vertical-align: top;\n",
       "    }\n",
       "\n",
       "    .dataframe thead th {\n",
       "        text-align: right;\n",
       "    }\n",
       "</style>\n",
       "<table border=\"1\" class=\"dataframe\">\n",
       "  <thead>\n",
       "    <tr style=\"text-align: right;\">\n",
       "      <th></th>\n",
       "      <th>Table</th>\n",
       "      <th>Columns</th>\n",
       "    </tr>\n",
       "  </thead>\n",
       "  <tbody>\n",
       "    <tr>\n",
       "      <th>0</th>\n",
       "      <td>inhabitant</td>\n",
       "      <td>personid, name, villageid, gender, job, gold, state, hash</td>\n",
       "    </tr>\n",
       "    <tr>\n",
       "      <th>1</th>\n",
       "      <td>village</td>\n",
       "      <td>villageid, name, chief, hash</td>\n",
       "    </tr>\n",
       "    <tr>\n",
       "      <th>2</th>\n",
       "      <td>item</td>\n",
       "      <td>item, owner, hash</td>\n",
       "    </tr>\n",
       "    <tr>\n",
       "      <th>3</th>\n",
       "      <td>sqlab_msg</td>\n",
       "      <td>msg</td>\n",
       "    </tr>\n",
       "  </tbody>\n",
       "</table>\n",
       "</div>"
      ],
      "text/plain": [
       "        Table                                                    Columns\n",
       "0  inhabitant  personid, name, villageid, gender, job, gold, state, hash\n",
       "1     village                               villageid, name, chief, hash\n",
       "2        item                                          item, owner, hash\n",
       "3   sqlab_msg                                                        msg"
      ]
     },
     "execution_count": 1,
     "metadata": {},
     "output_type": "execute_result"
    }
   ],
   "source": [
    "from sqlab.dbms.mysql.nb_tools import show_tables, col, print_assert\n",
    "%config SqlMagic.dsn_filename = \"cnx.ini\"\n",
    "%config SqlMagic.displaycon = False\n",
    "%config SqlMagic.displaylimit = 0\n",
    "%reload_ext sql\n",
    "%sql --section cnx\n",
    "show_tables()"
   ]
  },
  {
   "cell_type": "markdown",
   "id": "729bdb94",
   "metadata": {},
   "source": [
    "# SQL Island"
   ]
  },
  {
   "cell_type": "markdown",
   "id": "ee3c5069",
   "metadata": {},
   "source": [
    "## `SELECT *`"
   ]
  },
  {
   "cell_type": "markdown",
   "id": "15bf630e",
   "metadata": {},
   "source": [
    "**Episode [042].**\n",
    "Oh dear, what happened? It seems that I am the only survivor of the air crash. Wow, there are some villages on this island.\n",
    "\n",
    "```sql\n",
    "SELECT *\n",
    "FROM village\n",
    "```"
   ]
  },
  {
   "cell_type": "markdown",
   "id": "03084437",
   "metadata": {},
   "source": [
    "**Statement.** Copy-paste the previous query. After the star `*`, add a comma and the given formula. Execute the complete query."
   ]
  },
  {
   "cell_type": "code",
   "execution_count": null,
   "id": "b6acafe6",
   "metadata": {},
   "outputs": [
    {
     "data": {
      "text/html": [
       "<span style=\"color: green\">3 rows affected.</span>"
      ],
      "text/plain": [
       "3 rows affected."
      ]
     },
     "metadata": {},
     "output_type": "display_data"
    },
    {
     "data": {
      "text/html": [
       "<table>\n",
       "    <tr>\n",
       "        <th>villageid</th>\n",
       "        <th>name</th>\n",
       "        <th>chief</th>\n",
       "        <th>hash</th>\n",
       "        <th>token</th>\n",
       "    </tr>\n",
       "    <tr>\n",
       "        <td>1</td>\n",
       "        <td>Monkeycity</td>\n",
       "        <td>1</td>\n",
       "        <td>537616450612</td>\n",
       "        <td>279731784972193</td>\n",
       "    </tr>\n",
       "    <tr>\n",
       "        <td>2</td>\n",
       "        <td>Cucumbertown</td>\n",
       "        <td>6</td>\n",
       "        <td>506002862681</td>\n",
       "        <td>279731784972193</td>\n",
       "    </tr>\n",
       "    <tr>\n",
       "        <td>3</td>\n",
       "        <td>Onionville</td>\n",
       "        <td>13</td>\n",
       "        <td>1093234273575</td>\n",
       "        <td>279731784972193</td>\n",
       "    </tr>\n",
       "</table>"
      ]
     },
     "execution_count": null,
     "metadata": {},
     "output_type": "execute_result"
    }
   ],
   "source": [
    "%%sql\n",
    "SELECT *,\n",
    "    salt_042(sum(hash) OVER ()) AS token\n",
    "FROM village\n",
    "--> Episode [002]"
   ]
  },
  {
   "cell_type": "code",
   "execution_count": null,
   "id": "8179ba53",
   "metadata": {},
   "outputs": [],
   "source": [
    "assert col(\"name\") == ['Monkeycity', 'Cucumbertown', 'Onionville']"
   ]
  },
  {
   "cell_type": "markdown",
   "id": "4d2ef8c1",
   "metadata": {},
   "source": [
    "**Episode [002].** It seems there are a few people living in these villages."
   ]
  },
  {
   "cell_type": "markdown",
   "id": "4e19bb2b",
   "metadata": {},
   "source": [
    "**Statement.** How can you see a list of all inhabitants?"
   ]
  },
  {
   "cell_type": "code",
   "execution_count": null,
   "id": "322dac46",
   "metadata": {},
   "outputs": [
    {
     "data": {
      "text/html": [
       "<span style=\"color: green\">19 rows affected.</span>"
      ],
      "text/plain": [
       "19 rows affected."
      ]
     },
     "metadata": {},
     "output_type": "display_data"
    },
    {
     "data": {
      "text/html": [
       "<table>\n",
       "    <tr>\n",
       "        <th>personid</th>\n",
       "        <th>name</th>\n",
       "        <th>villageid</th>\n",
       "        <th>gender</th>\n",
       "        <th>job</th>\n",
       "        <th>gold</th>\n",
       "        <th>state</th>\n",
       "        <th>hash</th>\n",
       "        <th>token</th>\n",
       "    </tr>\n",
       "    <tr>\n",
       "        <td>1</td>\n",
       "        <td>Paul Bakerman</td>\n",
       "        <td>1</td>\n",
       "        <td>m</td>\n",
       "        <td>baker</td>\n",
       "        <td>850</td>\n",
       "        <td>friendly</td>\n",
       "        <td>667574576304</td>\n",
       "        <td>128589543210724</td>\n",
       "    </tr>\n",
       "    <tr>\n",
       "        <td>2</td>\n",
       "        <td>Ernest Perry</td>\n",
       "        <td>3</td>\n",
       "        <td>m</td>\n",
       "        <td>weaponsmith</td>\n",
       "        <td>280</td>\n",
       "        <td>friendly</td>\n",
       "        <td>73993229357</td>\n",
       "        <td>128589543210724</td>\n",
       "    </tr>\n",
       "    <tr>\n",
       "        <td>3</td>\n",
       "        <td>Rita Ox</td>\n",
       "        <td>1</td>\n",
       "        <td>f</td>\n",
       "        <td>baker</td>\n",
       "        <td>350</td>\n",
       "        <td>friendly</td>\n",
       "        <td>41932111594</td>\n",
       "        <td>128589543210724</td>\n",
       "    </tr>\n",
       "    <tr>\n",
       "        <td>4</td>\n",
       "        <td>Carl Ox</td>\n",
       "        <td>1</td>\n",
       "        <td>m</td>\n",
       "        <td>merchant</td>\n",
       "        <td>250</td>\n",
       "        <td>friendly</td>\n",
       "        <td>843473717421</td>\n",
       "        <td>128589543210724</td>\n",
       "    </tr>\n",
       "    <tr>\n",
       "        <td>5</td>\n",
       "        <td>Dirty Dieter</td>\n",
       "        <td>3</td>\n",
       "        <td>m</td>\n",
       "        <td>smith</td>\n",
       "        <td>650</td>\n",
       "        <td>evil</td>\n",
       "        <td>637588674311</td>\n",
       "        <td>128589543210724</td>\n",
       "    </tr>\n",
       "    <tr>\n",
       "        <td>6</td>\n",
       "        <td>Gerry Slaughterer</td>\n",
       "        <td>2</td>\n",
       "        <td>m</td>\n",
       "        <td>butcher</td>\n",
       "        <td>4850</td>\n",
       "        <td>evil</td>\n",
       "        <td>872618219253</td>\n",
       "        <td>128589543210724</td>\n",
       "    </tr>\n",
       "    <tr>\n",
       "        <td>7</td>\n",
       "        <td>Peter Slaughterer</td>\n",
       "        <td>3</td>\n",
       "        <td>m</td>\n",
       "        <td>butcher</td>\n",
       "        <td>3250</td>\n",
       "        <td>evil</td>\n",
       "        <td>648197551204</td>\n",
       "        <td>128589543210724</td>\n",
       "    </tr>\n",
       "    <tr>\n",
       "        <td>8</td>\n",
       "        <td>Arthur Tailor</td>\n",
       "        <td>2</td>\n",
       "        <td>m</td>\n",
       "        <td>pilot</td>\n",
       "        <td>490</td>\n",
       "        <td>kidnapped</td>\n",
       "        <td>823379478192</td>\n",
       "        <td>128589543210724</td>\n",
       "    </tr>\n",
       "    <tr>\n",
       "        <td>9</td>\n",
       "        <td>Tiffany Drummer</td>\n",
       "        <td>1</td>\n",
       "        <td>f</td>\n",
       "        <td>baker</td>\n",
       "        <td>550</td>\n",
       "        <td>evil</td>\n",
       "        <td>434738589188</td>\n",
       "        <td>128589543210724</td>\n",
       "    </tr>\n",
       "    <tr>\n",
       "        <td>10</td>\n",
       "        <td>Peter Drummer</td>\n",
       "        <td>1</td>\n",
       "        <td>m</td>\n",
       "        <td>smith</td>\n",
       "        <td>600</td>\n",
       "        <td>friendly</td>\n",
       "        <td>713565808545</td>\n",
       "        <td>128589543210724</td>\n",
       "    </tr>\n",
       "    <tr>\n",
       "        <td>11</td>\n",
       "        <td>Dirty Diane</td>\n",
       "        <td>3</td>\n",
       "        <td>f</td>\n",
       "        <td>farmer</td>\n",
       "        <td>10</td>\n",
       "        <td>evil</td>\n",
       "        <td>317598695175</td>\n",
       "        <td>128589543210724</td>\n",
       "    </tr>\n",
       "    <tr>\n",
       "        <td>12</td>\n",
       "        <td>Otto Alexander</td>\n",
       "        <td>2</td>\n",
       "        <td>m</td>\n",
       "        <td>dealer</td>\n",
       "        <td>680</td>\n",
       "        <td>friendly</td>\n",
       "        <td>371232179800</td>\n",
       "        <td>128589543210724</td>\n",
       "    </tr>\n",
       "    <tr>\n",
       "        <td>13</td>\n",
       "        <td>Fred Dix</td>\n",
       "        <td>3</td>\n",
       "        <td>m</td>\n",
       "        <td>author</td>\n",
       "        <td>420</td>\n",
       "        <td>friendly</td>\n",
       "        <td>865222686964</td>\n",
       "        <td>128589543210724</td>\n",
       "    </tr>\n",
       "    <tr>\n",
       "        <td>14</td>\n",
       "        <td>Enrico Carpenter</td>\n",
       "        <td>3</td>\n",
       "        <td>m</td>\n",
       "        <td>weaponsmith</td>\n",
       "        <td>510</td>\n",
       "        <td>evil</td>\n",
       "        <td>1052048305797</td>\n",
       "        <td>128589543210724</td>\n",
       "    </tr>\n",
       "    <tr>\n",
       "        <td>15</td>\n",
       "        <td>Helen Grasshead</td>\n",
       "        <td>2</td>\n",
       "        <td>f</td>\n",
       "        <td>dealer</td>\n",
       "        <td>680</td>\n",
       "        <td>friendly</td>\n",
       "        <td>618786795696</td>\n",
       "        <td>128589543210724</td>\n",
       "    </tr>\n",
       "    <tr>\n",
       "        <td>16</td>\n",
       "        <td>Ivy Hatter</td>\n",
       "        <td>1</td>\n",
       "        <td>f</td>\n",
       "        <td>dealer</td>\n",
       "        <td>770</td>\n",
       "        <td>evil</td>\n",
       "        <td>255939466731</td>\n",
       "        <td>128589543210724</td>\n",
       "    </tr>\n",
       "    <tr>\n",
       "        <td>17</td>\n",
       "        <td>Edward Grasshead</td>\n",
       "        <td>3</td>\n",
       "        <td>m</td>\n",
       "        <td>butcher</td>\n",
       "        <td>990</td>\n",
       "        <td>friendly</td>\n",
       "        <td>296311699507</td>\n",
       "        <td>128589543210724</td>\n",
       "    </tr>\n",
       "    <tr>\n",
       "        <td>18</td>\n",
       "        <td>Ryan Horse</td>\n",
       "        <td>3</td>\n",
       "        <td>m</td>\n",
       "        <td>blacksmith</td>\n",
       "        <td>390</td>\n",
       "        <td>friendly</td>\n",
       "        <td>98143389713</td>\n",
       "        <td>128589543210724</td>\n",
       "    </tr>\n",
       "    <tr>\n",
       "        <td>19</td>\n",
       "        <td>Ann Meaty</td>\n",
       "        <td>2</td>\n",
       "        <td>f</td>\n",
       "        <td>butcher</td>\n",
       "        <td>2280</td>\n",
       "        <td>friendly</td>\n",
       "        <td>889525893587</td>\n",
       "        <td>128589543210724</td>\n",
       "    </tr>\n",
       "</table>"
      ]
     },
     "execution_count": null,
     "metadata": {},
     "output_type": "execute_result"
    }
   ],
   "source": [
    "%%sql\n",
    "SELECT *,\n",
    "    salt_002(sum(hash) OVER ()) AS token\n",
    "FROM inhabitant\n",
    "--> Episode [048]"
   ]
  },
  {
   "cell_type": "markdown",
   "id": "063d5b3d",
   "metadata": {},
   "source": [
    "## `WHERE`"
   ]
  },
  {
   "cell_type": "markdown",
   "id": "40f1743a",
   "metadata": {},
   "source": [
    "### Comparison operator `=`"
   ]
  },
  {
   "cell_type": "markdown",
   "id": "413bf764",
   "metadata": {},
   "source": [
    "**Episode [048].**\n",
    "Woah, so many people!\n",
    "\n",
    "Man! I'm hungry. I will go and find a butcher to ask for some free sausages.\n",
    "\n",
    "```sql\n",
    "SELECT *\n",
    "FROM inhabitant\n",
    "WHERE job = 'butcher'\n",
    "```"
   ]
  },
  {
   "cell_type": "markdown",
   "id": "1fa65ffe",
   "metadata": {},
   "source": [
    "**Statement.** Copy-paste the previous query, add the given formula, and execute it."
   ]
  },
  {
   "cell_type": "code",
   "execution_count": null,
   "id": "0a5fc67e",
   "metadata": {},
   "outputs": [
    {
     "data": {
      "text/html": [
       "<span style=\"color: green\">4 rows affected.</span>"
      ],
      "text/plain": [
       "4 rows affected."
      ]
     },
     "metadata": {},
     "output_type": "display_data"
    },
    {
     "data": {
      "text/html": [
       "<table>\n",
       "    <tr>\n",
       "        <th>personid</th>\n",
       "        <th>name</th>\n",
       "        <th>villageid</th>\n",
       "        <th>gender</th>\n",
       "        <th>job</th>\n",
       "        <th>gold</th>\n",
       "        <th>state</th>\n",
       "        <th>hash</th>\n",
       "        <th>token</th>\n",
       "    </tr>\n",
       "    <tr>\n",
       "        <td>6</td>\n",
       "        <td>Gerry Slaughterer</td>\n",
       "        <td>2</td>\n",
       "        <td>m</td>\n",
       "        <td>butcher</td>\n",
       "        <td>4850</td>\n",
       "        <td>evil</td>\n",
       "        <td>872618219253</td>\n",
       "        <td>280206676651511</td>\n",
       "    </tr>\n",
       "    <tr>\n",
       "        <td>7</td>\n",
       "        <td>Peter Slaughterer</td>\n",
       "        <td>3</td>\n",
       "        <td>m</td>\n",
       "        <td>butcher</td>\n",
       "        <td>3250</td>\n",
       "        <td>evil</td>\n",
       "        <td>648197551204</td>\n",
       "        <td>280206676651511</td>\n",
       "    </tr>\n",
       "    <tr>\n",
       "        <td>17</td>\n",
       "        <td>Edward Grasshead</td>\n",
       "        <td>3</td>\n",
       "        <td>m</td>\n",
       "        <td>butcher</td>\n",
       "        <td>990</td>\n",
       "        <td>friendly</td>\n",
       "        <td>296311699507</td>\n",
       "        <td>280206676651511</td>\n",
       "    </tr>\n",
       "    <tr>\n",
       "        <td>19</td>\n",
       "        <td>Ann Meaty</td>\n",
       "        <td>2</td>\n",
       "        <td>f</td>\n",
       "        <td>butcher</td>\n",
       "        <td>2280</td>\n",
       "        <td>friendly</td>\n",
       "        <td>889525893587</td>\n",
       "        <td>280206676651511</td>\n",
       "    </tr>\n",
       "</table>"
      ]
     },
     "execution_count": null,
     "metadata": {},
     "output_type": "execute_result"
    }
   ],
   "source": [
    "%%sql\n",
    "SELECT *,\n",
    "    salt_048(sum(hash) OVER ()) AS token\n",
    "FROM inhabitant A\n",
    "WHERE job = 'butcher'\n",
    "--> Episode [023]"
   ]
  },
  {
   "cell_type": "markdown",
   "id": "7aa14fc1",
   "metadata": {},
   "source": [
    "**Episode [023].**\n",
    "- There you are! Enjoy your meal! But take care of yourself. As long as you are unarmed, stay away from villains. Not everyone on this island is friendly.\n",
    "- Thank you, Edward!"
   ]
  },
  {
   "cell_type": "markdown",
   "id": "790af18a",
   "metadata": {},
   "source": [
    "**Statement.** Okay, let's see who is friendly on this island..."
   ]
  },
  {
   "cell_type": "code",
   "execution_count": null,
   "id": "4e4e9631",
   "metadata": {},
   "outputs": [
    {
     "data": {
      "text/html": [
       "<span style=\"color: green\">11 rows affected.</span>"
      ],
      "text/plain": [
       "11 rows affected."
      ]
     },
     "metadata": {},
     "output_type": "display_data"
    },
    {
     "data": {
      "text/html": [
       "<table>\n",
       "    <tr>\n",
       "        <th>personid</th>\n",
       "        <th>name</th>\n",
       "        <th>villageid</th>\n",
       "        <th>gender</th>\n",
       "        <th>job</th>\n",
       "        <th>gold</th>\n",
       "        <th>state</th>\n",
       "        <th>hash</th>\n",
       "        <th>token</th>\n",
       "    </tr>\n",
       "    <tr>\n",
       "        <td>1</td>\n",
       "        <td>Paul Bakerman</td>\n",
       "        <td>1</td>\n",
       "        <td>m</td>\n",
       "        <td>baker</td>\n",
       "        <td>850</td>\n",
       "        <td>friendly</td>\n",
       "        <td>667574576304</td>\n",
       "        <td>49081739277115</td>\n",
       "    </tr>\n",
       "    <tr>\n",
       "        <td>2</td>\n",
       "        <td>Ernest Perry</td>\n",
       "        <td>3</td>\n",
       "        <td>m</td>\n",
       "        <td>weaponsmith</td>\n",
       "        <td>280</td>\n",
       "        <td>friendly</td>\n",
       "        <td>73993229357</td>\n",
       "        <td>49081739277115</td>\n",
       "    </tr>\n",
       "    <tr>\n",
       "        <td>3</td>\n",
       "        <td>Rita Ox</td>\n",
       "        <td>1</td>\n",
       "        <td>f</td>\n",
       "        <td>baker</td>\n",
       "        <td>350</td>\n",
       "        <td>friendly</td>\n",
       "        <td>41932111594</td>\n",
       "        <td>49081739277115</td>\n",
       "    </tr>\n",
       "    <tr>\n",
       "        <td>4</td>\n",
       "        <td>Carl Ox</td>\n",
       "        <td>1</td>\n",
       "        <td>m</td>\n",
       "        <td>merchant</td>\n",
       "        <td>250</td>\n",
       "        <td>friendly</td>\n",
       "        <td>843473717421</td>\n",
       "        <td>49081739277115</td>\n",
       "    </tr>\n",
       "    <tr>\n",
       "        <td>10</td>\n",
       "        <td>Peter Drummer</td>\n",
       "        <td>1</td>\n",
       "        <td>m</td>\n",
       "        <td>smith</td>\n",
       "        <td>600</td>\n",
       "        <td>friendly</td>\n",
       "        <td>713565808545</td>\n",
       "        <td>49081739277115</td>\n",
       "    </tr>\n",
       "    <tr>\n",
       "        <td>12</td>\n",
       "        <td>Otto Alexander</td>\n",
       "        <td>2</td>\n",
       "        <td>m</td>\n",
       "        <td>dealer</td>\n",
       "        <td>680</td>\n",
       "        <td>friendly</td>\n",
       "        <td>371232179800</td>\n",
       "        <td>49081739277115</td>\n",
       "    </tr>\n",
       "    <tr>\n",
       "        <td>13</td>\n",
       "        <td>Fred Dix</td>\n",
       "        <td>3</td>\n",
       "        <td>m</td>\n",
       "        <td>author</td>\n",
       "        <td>420</td>\n",
       "        <td>friendly</td>\n",
       "        <td>865222686964</td>\n",
       "        <td>49081739277115</td>\n",
       "    </tr>\n",
       "    <tr>\n",
       "        <td>15</td>\n",
       "        <td>Helen Grasshead</td>\n",
       "        <td>2</td>\n",
       "        <td>f</td>\n",
       "        <td>dealer</td>\n",
       "        <td>680</td>\n",
       "        <td>friendly</td>\n",
       "        <td>618786795696</td>\n",
       "        <td>49081739277115</td>\n",
       "    </tr>\n",
       "    <tr>\n",
       "        <td>17</td>\n",
       "        <td>Edward Grasshead</td>\n",
       "        <td>3</td>\n",
       "        <td>m</td>\n",
       "        <td>butcher</td>\n",
       "        <td>990</td>\n",
       "        <td>friendly</td>\n",
       "        <td>296311699507</td>\n",
       "        <td>49081739277115</td>\n",
       "    </tr>\n",
       "    <tr>\n",
       "        <td>18</td>\n",
       "        <td>Ryan Horse</td>\n",
       "        <td>3</td>\n",
       "        <td>m</td>\n",
       "        <td>blacksmith</td>\n",
       "        <td>390</td>\n",
       "        <td>friendly</td>\n",
       "        <td>98143389713</td>\n",
       "        <td>49081739277115</td>\n",
       "    </tr>\n",
       "    <tr>\n",
       "        <td>19</td>\n",
       "        <td>Ann Meaty</td>\n",
       "        <td>2</td>\n",
       "        <td>f</td>\n",
       "        <td>butcher</td>\n",
       "        <td>2280</td>\n",
       "        <td>friendly</td>\n",
       "        <td>889525893587</td>\n",
       "        <td>49081739277115</td>\n",
       "    </tr>\n",
       "</table>"
      ]
     },
     "execution_count": null,
     "metadata": {},
     "output_type": "execute_result"
    }
   ],
   "source": [
    "%%sql\n",
    "SELECT *,\n",
    "    salt_023(sum(hash) OVER ()) AS token\n",
    "FROM inhabitant\n",
    "WHERE state = 'friendly'\n",
    "--> Episode [060]"
   ]
  },
  {
   "cell_type": "markdown",
   "id": "427697c5",
   "metadata": {},
   "source": [
    "### Boolean operator `AND`"
   ]
  },
  {
   "cell_type": "markdown",
   "id": "65943baa",
   "metadata": {},
   "source": [
    "**Episode [060].**\n",
    "There is no way around getting a sword for myself. "
   ]
  },
  {
   "cell_type": "markdown",
   "id": "223775f1",
   "metadata": {},
   "source": [
    "**Statement.** Now try to find a friendly weaponsmith to forge you one.\n",
    "\n",
    "_Tip._ You can combine predicates in the `WHERE` clause with `AND`."
   ]
  },
  {
   "cell_type": "code",
   "execution_count": null,
   "id": "617549f8",
   "metadata": {},
   "outputs": [
    {
     "data": {
      "text/html": [
       "<span style=\"color: green\">1 rows affected.</span>"
      ],
      "text/plain": [
       "1 rows affected."
      ]
     },
     "metadata": {},
     "output_type": "display_data"
    },
    {
     "data": {
      "text/html": [
       "<table>\n",
       "    <tr>\n",
       "        <th>personid</th>\n",
       "        <th>name</th>\n",
       "        <th>villageid</th>\n",
       "        <th>gender</th>\n",
       "        <th>job</th>\n",
       "        <th>gold</th>\n",
       "        <th>state</th>\n",
       "        <th>hash</th>\n",
       "        <th>token</th>\n",
       "    </tr>\n",
       "    <tr>\n",
       "        <td>2</td>\n",
       "        <td>Ernest Perry</td>\n",
       "        <td>3</td>\n",
       "        <td>m</td>\n",
       "        <td>weaponsmith</td>\n",
       "        <td>280</td>\n",
       "        <td>friendly</td>\n",
       "        <td>73993229357</td>\n",
       "        <td>111903790755050</td>\n",
       "    </tr>\n",
       "</table>"
      ]
     },
     "execution_count": null,
     "metadata": {},
     "output_type": "execute_result"
    }
   ],
   "source": [
    "%%sql\n",
    "SELECT *,\n",
    "    salt_060(sum(hash) OVER ()) AS token\n",
    "FROM inhabitant\n",
    "WHERE state = 'friendly'\n",
    "    AND job = 'weaponsmith'\n",
    "--> Episode [069]"
   ]
  },
  {
   "cell_type": "markdown",
   "id": "9966fa34",
   "metadata": {},
   "source": [
    "### Comparison operator `LIKE`"
   ]
  },
  {
   "cell_type": "markdown",
   "id": "6fa0da5c",
   "metadata": {},
   "source": [
    "**Episode [069].**\n",
    "Oh, that does not look good."
   ]
  },
  {
   "cell_type": "markdown",
   "id": "8731ff98",
   "metadata": {},
   "source": [
    "**Statement.** Maybe other friendly smiths can help you out, e.g. a blacksmith.\n",
    "\n",
    "_Tip._ Try out: job `LIKE` '%smith' to find all inhabitants whose job ends with 'smith' (% is a wildcard for any number of characters)."
   ]
  },
  {
   "cell_type": "code",
   "execution_count": null,
   "id": "23c59067",
   "metadata": {},
   "outputs": [
    {
     "data": {
      "text/html": [
       "<span style=\"color: green\">3 rows affected.</span>"
      ],
      "text/plain": [
       "3 rows affected."
      ]
     },
     "metadata": {},
     "output_type": "display_data"
    },
    {
     "data": {
      "text/html": [
       "<table>\n",
       "    <tr>\n",
       "        <th>personid</th>\n",
       "        <th>name</th>\n",
       "        <th>villageid</th>\n",
       "        <th>gender</th>\n",
       "        <th>job</th>\n",
       "        <th>gold</th>\n",
       "        <th>state</th>\n",
       "        <th>hash</th>\n",
       "        <th>token</th>\n",
       "    </tr>\n",
       "    <tr>\n",
       "        <td>2</td>\n",
       "        <td>Ernest Perry</td>\n",
       "        <td>3</td>\n",
       "        <td>m</td>\n",
       "        <td>weaponsmith</td>\n",
       "        <td>280</td>\n",
       "        <td>friendly</td>\n",
       "        <td>73993229357</td>\n",
       "        <td>71115866585707</td>\n",
       "    </tr>\n",
       "    <tr>\n",
       "        <td>10</td>\n",
       "        <td>Peter Drummer</td>\n",
       "        <td>1</td>\n",
       "        <td>m</td>\n",
       "        <td>smith</td>\n",
       "        <td>600</td>\n",
       "        <td>friendly</td>\n",
       "        <td>713565808545</td>\n",
       "        <td>71115866585707</td>\n",
       "    </tr>\n",
       "    <tr>\n",
       "        <td>18</td>\n",
       "        <td>Ryan Horse</td>\n",
       "        <td>3</td>\n",
       "        <td>m</td>\n",
       "        <td>blacksmith</td>\n",
       "        <td>390</td>\n",
       "        <td>friendly</td>\n",
       "        <td>98143389713</td>\n",
       "        <td>71115866585707</td>\n",
       "    </tr>\n",
       "</table>"
      ]
     },
     "execution_count": null,
     "metadata": {},
     "output_type": "execute_result"
    }
   ],
   "source": [
    "%%sql\n",
    "SELECT *,\n",
    "    salt_069(sum(hash) OVER ()) AS token\n",
    "FROM inhabitant\n",
    "WHERE state = 'friendly'\n",
    "    AND job LIKE '%smith'\n",
    "--> Episode [090]"
   ]
  },
  {
   "cell_type": "markdown",
   "id": "3115a375",
   "metadata": {},
   "source": [
    "## `INSERT`"
   ]
  },
  {
   "cell_type": "markdown",
   "id": "81113dba",
   "metadata": {},
   "source": [
    "**Episode [090].**\n",
    "That looks better! I will go and visit those smiths.\n",
    "\n",
    "– Hi stranger! Where are you going? I'm Paul, I'm the major of Monkeycity. I will go ahead and register you as a citizen.\n",
    "\n",
    "```sql\n",
    "INSERT INTO inhabitant (name, villageid, gender, job, gold, state) VALUES ('Stranger', 1, '?', '?', 0, '?')\n",
    "```\n",
    "\n",
    "– No need to call me stranger!"
   ]
  },
  {
   "cell_type": "markdown",
   "id": "c2eb84e6",
   "metadata": {},
   "source": [
    "**Statement.** First, execute the `INSERT` query. Then, look for your personid.\n",
    "\n",
    "_Tip._ In former queries, the * stands for: all columns. Instead of the star, you can also address one or more columns (separated by a comma) and you will only get the columns you need."
   ]
  },
  {
   "cell_type": "code",
   "execution_count": null,
   "id": "b55aed2a",
   "metadata": {},
   "outputs": [
    {
     "data": {
      "text/html": [
       "<span style=\"color: green\">1 rows affected.</span>"
      ],
      "text/plain": [
       "1 rows affected."
      ]
     },
     "metadata": {},
     "output_type": "display_data"
    },
    {
     "data": {
      "text/html": [
       "<span style=\"color: green\">1 rows affected.</span>"
      ],
      "text/plain": [
       "1 rows affected."
      ]
     },
     "metadata": {},
     "output_type": "display_data"
    },
    {
     "data": {
      "text/html": [
       "<table>\n",
       "    <tr>\n",
       "        <th>personid</th>\n",
       "        <th>token</th>\n",
       "    </tr>\n",
       "    <tr>\n",
       "        <td>20</td>\n",
       "        <td>29896704364823</td>\n",
       "    </tr>\n",
       "</table>"
      ]
     },
     "execution_count": null,
     "metadata": {},
     "output_type": "execute_result"
    }
   ],
   "source": [
    "%%sql\n",
    "INSERT INTO inhabitant (name, villageid, gender, job, gold, state)\n",
    "VALUES ('Stranger', 1, '?', '?', 0, '?');\n",
    "\n",
    "\n",
    "SELECT personid,\n",
    "    salt_090(sum(hash) OVER ()) AS token\n",
    "FROM inhabitant\n",
    "WHERE name = 'Stranger';\n",
    "--> Episode [099]"
   ]
  },
  {
   "cell_type": "markdown",
   "id": "3c7ef254",
   "metadata": {},
   "source": [
    "### Fixing multiple insertions of the same record"
   ]
  },
  {
   "cell_type": "markdown",
   "id": "3d6fbc51",
   "metadata": {},
   "source": [
    "#### One duplicate"
   ]
  },
  {
   "cell_type": "code",
   "execution_count": null,
   "id": "ce1f8866",
   "metadata": {},
   "outputs": [
    {
     "data": {
      "text/html": [
       "<span style=\"color: green\">1 rows affected.</span>"
      ],
      "text/plain": [
       "1 rows affected."
      ]
     },
     "metadata": {},
     "output_type": "display_data"
    },
    {
     "data": {
      "text/html": [
       "<table>\n",
       "    <tr>\n",
       "    </tr>\n",
       "</table>"
      ],
      "text/plain": [
       "++\n",
       "||\n",
       "++\n",
       "++"
      ]
     },
     "execution_count": null,
     "metadata": {},
     "output_type": "execute_result"
    }
   ],
   "source": [
    "%%sql\n",
    "INSERT INTO inhabitant (name, villageid, gender, job, gold, state)\n",
    "VALUES ('Stranger', 1, '?', '?', 0, '?')"
   ]
  },
  {
   "cell_type": "code",
   "execution_count": null,
   "id": "ecea517e",
   "metadata": {},
   "outputs": [
    {
     "data": {
      "text/html": [
       "<span style=\"color: green\">2 rows affected.</span>"
      ],
      "text/plain": [
       "2 rows affected."
      ]
     },
     "metadata": {},
     "output_type": "display_data"
    },
    {
     "data": {
      "text/html": [
       "<table>\n",
       "    <tr>\n",
       "        <th>personid</th>\n",
       "        <th>token</th>\n",
       "    </tr>\n",
       "    <tr>\n",
       "        <td>20</td>\n",
       "        <td>29293607320320</td>\n",
       "    </tr>\n",
       "    <tr>\n",
       "        <td>21</td>\n",
       "        <td>29293607320320</td>\n",
       "    </tr>\n",
       "</table>"
      ]
     },
     "execution_count": null,
     "metadata": {},
     "output_type": "execute_result"
    }
   ],
   "source": [
    "%%sql\n",
    "-- Hint. Oops, it seems you have executed the `INSERT` query twice or more.\n",
    "-- Execute the following queries to cancel all these insertions:\n",
    "-- DELETE from inhabitant WHERE name = 'Stranger';\n",
    "-- ALTER TABLE inhabitant AUTO_INCREMENT=1\n",
    "SELECT personid,\n",
    "    salt_090(sum(hash) OVER ()) AS token\n",
    "FROM inhabitant\n",
    "WHERE name = 'Stranger';"
   ]
  },
  {
   "cell_type": "markdown",
   "id": "998e8592",
   "metadata": {},
   "source": [
    "#### Two duplicates"
   ]
  },
  {
   "cell_type": "code",
   "execution_count": null,
   "id": "8803909c",
   "metadata": {},
   "outputs": [
    {
     "data": {
      "text/html": [
       "<span style=\"color: green\">1 rows affected.</span>"
      ],
      "text/plain": [
       "1 rows affected."
      ]
     },
     "metadata": {},
     "output_type": "display_data"
    },
    {
     "data": {
      "text/html": [
       "<table>\n",
       "    <tr>\n",
       "    </tr>\n",
       "</table>"
      ],
      "text/plain": [
       "++\n",
       "||\n",
       "++\n",
       "++"
      ]
     },
     "execution_count": null,
     "metadata": {},
     "output_type": "execute_result"
    }
   ],
   "source": [
    "%%sql\n",
    "INSERT INTO inhabitant (name, villageid, gender, job, gold, state)\n",
    "VALUES ('Stranger', 1, '?', '?', 0, '?')"
   ]
  },
  {
   "cell_type": "code",
   "execution_count": null,
   "id": "024c6bb5",
   "metadata": {},
   "outputs": [
    {
     "data": {
      "text/html": [
       "<span style=\"color: green\">3 rows affected.</span>"
      ],
      "text/plain": [
       "3 rows affected."
      ]
     },
     "metadata": {},
     "output_type": "display_data"
    },
    {
     "data": {
      "text/html": [
       "<table>\n",
       "    <tr>\n",
       "        <th>personid</th>\n",
       "        <th>token</th>\n",
       "    </tr>\n",
       "    <tr>\n",
       "        <td>20</td>\n",
       "        <td>28697173935421</td>\n",
       "    </tr>\n",
       "    <tr>\n",
       "        <td>21</td>\n",
       "        <td>28697173935421</td>\n",
       "    </tr>\n",
       "    <tr>\n",
       "        <td>22</td>\n",
       "        <td>28697173935421</td>\n",
       "    </tr>\n",
       "</table>"
      ]
     },
     "execution_count": null,
     "metadata": {},
     "output_type": "execute_result"
    }
   ],
   "source": [
    "%%sql\n",
    "-- Hint. Oops, it seems you have executed the `INSERT` query twice or more.\n",
    "-- Execute the following queries to cancel all these insertions:\n",
    "-- DELETE from inhabitant WHERE name = 'Stranger';\n",
    "-- ALTER TABLE inhabitant AUTO_INCREMENT=1\n",
    "SELECT personid,\n",
    "    salt_090(sum(hash) OVER ()) AS token\n",
    "FROM inhabitant\n",
    "WHERE name = 'Stranger';"
   ]
  },
  {
   "cell_type": "markdown",
   "id": "1cb3ba41",
   "metadata": {},
   "source": [
    "#### Three duplicates"
   ]
  },
  {
   "cell_type": "code",
   "execution_count": null,
   "id": "3af016bc",
   "metadata": {},
   "outputs": [
    {
     "data": {
      "text/html": [
       "<span style=\"color: green\">1 rows affected.</span>"
      ],
      "text/plain": [
       "1 rows affected."
      ]
     },
     "metadata": {},
     "output_type": "display_data"
    },
    {
     "data": {
      "text/html": [
       "<table>\n",
       "    <tr>\n",
       "    </tr>\n",
       "</table>"
      ],
      "text/plain": [
       "++\n",
       "||\n",
       "++\n",
       "++"
      ]
     },
     "execution_count": null,
     "metadata": {},
     "output_type": "execute_result"
    }
   ],
   "source": [
    "%%sql\n",
    "INSERT INTO inhabitant (name, villageid, gender, job, gold, state)\n",
    "VALUES ('Stranger', 1, '?', '?', 0, '?')"
   ]
  },
  {
   "cell_type": "code",
   "execution_count": null,
   "id": "1656bab3",
   "metadata": {},
   "outputs": [
    {
     "data": {
      "text/html": [
       "<span style=\"color: green\">4 rows affected.</span>"
      ],
      "text/plain": [
       "4 rows affected."
      ]
     },
     "metadata": {},
     "output_type": "display_data"
    },
    {
     "data": {
      "text/html": [
       "<table>\n",
       "    <tr>\n",
       "        <th>personid</th>\n",
       "        <th>token</th>\n",
       "    </tr>\n",
       "    <tr>\n",
       "        <td>20</td>\n",
       "        <td>28094084689710</td>\n",
       "    </tr>\n",
       "    <tr>\n",
       "        <td>21</td>\n",
       "        <td>28094084689710</td>\n",
       "    </tr>\n",
       "    <tr>\n",
       "        <td>22</td>\n",
       "        <td>28094084689710</td>\n",
       "    </tr>\n",
       "    <tr>\n",
       "        <td>23</td>\n",
       "        <td>28094084689710</td>\n",
       "    </tr>\n",
       "</table>"
      ]
     },
     "execution_count": null,
     "metadata": {},
     "output_type": "execute_result"
    }
   ],
   "source": [
    "%%sql\n",
    "-- Hint. Oops, it seems you have executed the `INSERT` query twice or more.\n",
    "-- Execute the following queries to cancel all these insertions:\n",
    "-- DELETE from inhabitant WHERE name = 'Stranger';\n",
    "-- ALTER TABLE inhabitant AUTO_INCREMENT=1\n",
    "SELECT personid,\n",
    "    salt_090(sum(hash) OVER ()) AS token\n",
    "FROM inhabitant\n",
    "WHERE name = 'Stranger';"
   ]
  },
  {
   "cell_type": "markdown",
   "id": "e00f2839",
   "metadata": {},
   "source": [
    "#### Four duplicates"
   ]
  },
  {
   "cell_type": "code",
   "execution_count": null,
   "id": "837b61fb",
   "metadata": {},
   "outputs": [
    {
     "data": {
      "text/html": [
       "<span style=\"color: green\">1 rows affected.</span>"
      ],
      "text/plain": [
       "1 rows affected."
      ]
     },
     "metadata": {},
     "output_type": "display_data"
    },
    {
     "data": {
      "text/html": [
       "<table>\n",
       "    <tr>\n",
       "    </tr>\n",
       "</table>"
      ],
      "text/plain": [
       "++\n",
       "||\n",
       "++\n",
       "++"
      ]
     },
     "execution_count": null,
     "metadata": {},
     "output_type": "execute_result"
    }
   ],
   "source": [
    "%%sql\n",
    "INSERT INTO inhabitant (name, villageid, gender, job, gold, state)\n",
    "VALUES ('Stranger', 1, '?', '?', 0, '?')"
   ]
  },
  {
   "cell_type": "code",
   "execution_count": null,
   "id": "7d2668f7",
   "metadata": {},
   "outputs": [
    {
     "data": {
      "text/html": [
       "<span style=\"color: green\">5 rows affected.</span>"
      ],
      "text/plain": [
       "5 rows affected."
      ]
     },
     "metadata": {},
     "output_type": "display_data"
    },
    {
     "data": {
      "text/html": [
       "<table>\n",
       "    <tr>\n",
       "        <th>personid</th>\n",
       "        <th>token</th>\n",
       "    </tr>\n",
       "    <tr>\n",
       "        <td>20</td>\n",
       "        <td>27493202200923</td>\n",
       "    </tr>\n",
       "    <tr>\n",
       "        <td>21</td>\n",
       "        <td>27493202200923</td>\n",
       "    </tr>\n",
       "    <tr>\n",
       "        <td>22</td>\n",
       "        <td>27493202200923</td>\n",
       "    </tr>\n",
       "    <tr>\n",
       "        <td>23</td>\n",
       "        <td>27493202200923</td>\n",
       "    </tr>\n",
       "    <tr>\n",
       "        <td>24</td>\n",
       "        <td>27493202200923</td>\n",
       "    </tr>\n",
       "</table>"
      ]
     },
     "execution_count": null,
     "metadata": {},
     "output_type": "execute_result"
    }
   ],
   "source": [
    "%%sql\n",
    "-- Hint. Oops, it seems you have executed the `INSERT` query twice or more.\n",
    "-- Execute the following queries to cancel all these insertions:\n",
    "-- DELETE from inhabitant WHERE name = 'Stranger';\n",
    "-- ALTER TABLE inhabitant AUTO_INCREMENT=1\n",
    "SELECT personid,\n",
    "    salt_090(sum(hash) OVER ()) AS token\n",
    "FROM inhabitant\n",
    "WHERE name = 'Stranger';"
   ]
  },
  {
   "cell_type": "markdown",
   "id": "505ead3a",
   "metadata": {},
   "source": [
    "#### Deduplicating"
   ]
  },
  {
   "cell_type": "code",
   "execution_count": null,
   "id": "dc3f2498",
   "metadata": {},
   "outputs": [
    {
     "data": {
      "text/html": [
       "<span style=\"color: green\">5 rows affected.</span>"
      ],
      "text/plain": [
       "5 rows affected."
      ]
     },
     "metadata": {},
     "output_type": "display_data"
    },
    {
     "data": {
      "text/html": [
       "<span style=\"color: green\">1 rows affected.</span>"
      ],
      "text/plain": [
       "1 rows affected."
      ]
     },
     "metadata": {},
     "output_type": "display_data"
    },
    {
     "data": {
      "text/html": [
       "<table>\n",
       "    <tr>\n",
       "    </tr>\n",
       "</table>"
      ],
      "text/plain": [
       "++\n",
       "||\n",
       "++\n",
       "++"
      ]
     },
     "execution_count": null,
     "metadata": {},
     "output_type": "execute_result"
    }
   ],
   "source": [
    "%%sql\n",
    "DELETE\n",
    "FROM inhabitant\n",
    "WHERE name = 'Stranger';\n",
    "\n",
    "\n",
    "ALTER TABLE inhabitant AUTO_INCREMENT = 1;\n",
    "\n",
    "\n",
    "INSERT INTO inhabitant (name, villageid, gender, job, gold, state)\n",
    "VALUES ('Stranger', 1, '?', '?', 0, '?');"
   ]
  },
  {
   "cell_type": "markdown",
   "id": "c8891e97",
   "metadata": {},
   "source": [
    "## `WHERE` (again)"
   ]
  },
  {
   "cell_type": "markdown",
   "id": "8431aae6",
   "metadata": {},
   "source": [
    "### Comparison operator `=`"
   ]
  },
  {
   "cell_type": "markdown",
   "id": "4bc4c9e5",
   "metadata": {},
   "source": [
    "**Episode [099].**\n",
    "\n",
    "- Hi Ernest! How much is a sword?\n",
    "- I can offer to make you a sword for 150 gold. That's the cheapest you will find!"
   ]
  },
  {
   "cell_type": "markdown",
   "id": "4f944864",
   "metadata": {},
   "source": [
    "**Statement.** How much gold do you have?"
   ]
  },
  {
   "cell_type": "code",
   "execution_count": null,
   "id": "7edd9bfb",
   "metadata": {},
   "outputs": [
    {
     "data": {
      "text/html": [
       "<span style=\"color: green\">1 rows affected.</span>"
      ],
      "text/plain": [
       "1 rows affected."
      ]
     },
     "metadata": {},
     "output_type": "display_data"
    },
    {
     "data": {
      "text/html": [
       "<table>\n",
       "    <tr>\n",
       "        <th>gold</th>\n",
       "        <th>token</th>\n",
       "    </tr>\n",
       "    <tr>\n",
       "        <td>0</td>\n",
       "        <td>7708171354493</td>\n",
       "    </tr>\n",
       "</table>"
      ]
     },
     "execution_count": null,
     "metadata": {},
     "output_type": "execute_result"
    }
   ],
   "source": [
    "%%sql\n",
    "SELECT gold,\n",
    "    salt_099(sum(hash) OVER ()) AS token\n",
    "FROM inhabitant\n",
    "WHERE personid = 20\n",
    "--> Episode [073]"
   ]
  },
  {
   "cell_type": "markdown",
   "id": "8ffc4ae4",
   "metadata": {},
   "source": [
    "### `IS NULL`"
   ]
  },
  {
   "cell_type": "markdown",
   "id": "15b0c171",
   "metadata": {},
   "source": [
    "**Episode [073].**\n",
    "Damn! No mon, no fun. There has to be another option to earn gold other than going to work. Maybe I could collect ownerless items and sell them!"
   ]
  },
  {
   "cell_type": "markdown",
   "id": "32dd51ca",
   "metadata": {},
   "source": [
    "**Statement.** Make a list of all items that don't belong to anyone.\n",
    "\n",
    "_Tip._ You can recognize ownerless items by: WHERE owner IS NULL"
   ]
  },
  {
   "cell_type": "code",
   "execution_count": null,
   "id": "26eb6e8a",
   "metadata": {},
   "outputs": [
    {
     "data": {
      "text/html": [
       "<span style=\"color: green\">6 rows affected.</span>"
      ],
      "text/plain": [
       "6 rows affected."
      ]
     },
     "metadata": {},
     "output_type": "display_data"
    },
    {
     "data": {
      "text/html": [
       "<table>\n",
       "    <tr>\n",
       "        <th>item</th>\n",
       "        <th>owner</th>\n",
       "        <th>hash</th>\n",
       "        <th>token</th>\n",
       "    </tr>\n",
       "    <tr>\n",
       "        <td>bucket</td>\n",
       "        <td>None</td>\n",
       "        <td>184436083777</td>\n",
       "        <td>253789061748229</td>\n",
       "    </tr>\n",
       "    <tr>\n",
       "        <td>carton</td>\n",
       "        <td>None</td>\n",
       "        <td>456410402076</td>\n",
       "        <td>253789061748229</td>\n",
       "    </tr>\n",
       "    <tr>\n",
       "        <td>coffee cup</td>\n",
       "        <td>None</td>\n",
       "        <td>187016689873</td>\n",
       "        <td>253789061748229</td>\n",
       "    </tr>\n",
       "    <tr>\n",
       "        <td>lightbulb</td>\n",
       "        <td>None</td>\n",
       "        <td>659598942284</td>\n",
       "        <td>253789061748229</td>\n",
       "    </tr>\n",
       "    <tr>\n",
       "        <td>ring</td>\n",
       "        <td>None</td>\n",
       "        <td>588958498140</td>\n",
       "        <td>253789061748229</td>\n",
       "    </tr>\n",
       "    <tr>\n",
       "        <td>teapot</td>\n",
       "        <td>None</td>\n",
       "        <td>89763356635</td>\n",
       "        <td>253789061748229</td>\n",
       "    </tr>\n",
       "</table>"
      ]
     },
     "execution_count": null,
     "metadata": {},
     "output_type": "execute_result"
    }
   ],
   "source": [
    "%%sql\n",
    "SELECT *,\n",
    "    salt_073(sum(hash) OVER ()) AS token\n",
    "FROM item\n",
    "WHERE OWNER IS NULL\n",
    "--> Episode [093]"
   ]
  },
  {
   "cell_type": "markdown",
   "id": "d691f30a",
   "metadata": {},
   "source": [
    "## `UPDATE`"
   ]
  },
  {
   "cell_type": "markdown",
   "id": "f746ce62",
   "metadata": {},
   "source": [
    "### `UPDATE` one row"
   ]
  },
  {
   "cell_type": "markdown",
   "id": "db59717a",
   "metadata": {},
   "source": [
    "**Episode [093].** So much cool stuff!\n",
    "\n",
    "Yay, a coffee cup. Let's collect it!\n",
    "\n",
    "```sql\n",
    "UPDATE item\n",
    "SET owner = 20\n",
    "WHERE item = 'coffee cup'\n",
    "```"
   ]
  },
  {
   "cell_type": "markdown",
   "id": "a57501d5",
   "metadata": {},
   "source": [
    "**Statement.** Execute the `UPDATE` query, and check the `item` table afterwards."
   ]
  },
  {
   "cell_type": "code",
   "execution_count": null,
   "id": "693ac72d",
   "metadata": {},
   "outputs": [
    {
     "data": {
      "text/html": [
       "<span style=\"color: green\">1 rows affected.</span>"
      ],
      "text/plain": [
       "1 rows affected."
      ]
     },
     "metadata": {},
     "output_type": "display_data"
    },
    {
     "data": {
      "text/html": [
       "<span style=\"color: green\">9 rows affected.</span>"
      ],
      "text/plain": [
       "9 rows affected."
      ]
     },
     "metadata": {},
     "output_type": "display_data"
    },
    {
     "data": {
      "text/html": [
       "<table>\n",
       "    <tr>\n",
       "        <th>item</th>\n",
       "        <th>owner</th>\n",
       "        <th>hash</th>\n",
       "        <th>token</th>\n",
       "    </tr>\n",
       "    <tr>\n",
       "        <td>bucket</td>\n",
       "        <td>None</td>\n",
       "        <td>184436083777</td>\n",
       "        <td>107025105236366</td>\n",
       "    </tr>\n",
       "    <tr>\n",
       "        <td>cane</td>\n",
       "        <td>5</td>\n",
       "        <td>11384476511</td>\n",
       "        <td>107025105236366</td>\n",
       "    </tr>\n",
       "    <tr>\n",
       "        <td>carton</td>\n",
       "        <td>None</td>\n",
       "        <td>456410402076</td>\n",
       "        <td>107025105236366</td>\n",
       "    </tr>\n",
       "    <tr>\n",
       "        <td>coffee cup</td>\n",
       "        <td>20</td>\n",
       "        <td>635511775068</td>\n",
       "        <td>107025105236366</td>\n",
       "    </tr>\n",
       "    <tr>\n",
       "        <td>hammer</td>\n",
       "        <td>2</td>\n",
       "        <td>471038081064</td>\n",
       "        <td>107025105236366</td>\n",
       "    </tr>\n",
       "    <tr>\n",
       "        <td>lightbulb</td>\n",
       "        <td>None</td>\n",
       "        <td>659598942284</td>\n",
       "        <td>107025105236366</td>\n",
       "    </tr>\n",
       "    <tr>\n",
       "        <td>ring</td>\n",
       "        <td>None</td>\n",
       "        <td>588958498140</td>\n",
       "        <td>107025105236366</td>\n",
       "    </tr>\n",
       "    <tr>\n",
       "        <td>rope</td>\n",
       "        <td>17</td>\n",
       "        <td>538701889223</td>\n",
       "        <td>107025105236366</td>\n",
       "    </tr>\n",
       "    <tr>\n",
       "        <td>teapot</td>\n",
       "        <td>None</td>\n",
       "        <td>89763356635</td>\n",
       "        <td>107025105236366</td>\n",
       "    </tr>\n",
       "</table>"
      ]
     },
     "execution_count": null,
     "metadata": {},
     "output_type": "execute_result"
    }
   ],
   "source": [
    "%%sql\n",
    "UPDATE item\n",
    "SET OWNER = 20\n",
    "WHERE item = 'coffee cup';\n",
    "\n",
    "\n",
    "SELECT *,\n",
    "    salt_093(sum(hash) OVER ()) AS token\n",
    "FROM item\n",
    "--> Episode [033]"
   ]
  },
  {
   "cell_type": "markdown",
   "id": "6ea6c97a",
   "metadata": {},
   "source": [
    "### `UPDATE` several rows"
   ]
  },
  {
   "cell_type": "markdown",
   "id": "b154ebf0",
   "metadata": {},
   "source": [
    "**Episode [033].**"
   ]
  },
  {
   "cell_type": "markdown",
   "id": "107791bb",
   "metadata": {},
   "source": [
    "**Statement.** Do you know a trick how to collect all the ownerless items? Afterwards, list all of the items you own."
   ]
  },
  {
   "cell_type": "code",
   "execution_count": null,
   "id": "27f27d91",
   "metadata": {},
   "outputs": [
    {
     "data": {
      "text/html": [
       "<span style=\"color: green\">5 rows affected.</span>"
      ],
      "text/plain": [
       "5 rows affected."
      ]
     },
     "metadata": {},
     "output_type": "display_data"
    },
    {
     "data": {
      "text/html": [
       "<span style=\"color: green\">6 rows affected.</span>"
      ],
      "text/plain": [
       "6 rows affected."
      ]
     },
     "metadata": {},
     "output_type": "display_data"
    },
    {
     "data": {
      "text/html": [
       "<table>\n",
       "    <tr>\n",
       "        <th>item</th>\n",
       "        <th>token</th>\n",
       "    </tr>\n",
       "    <tr>\n",
       "        <td>bucket</td>\n",
       "        <td>139744599079637</td>\n",
       "    </tr>\n",
       "    <tr>\n",
       "        <td>carton</td>\n",
       "        <td>139744599079637</td>\n",
       "    </tr>\n",
       "    <tr>\n",
       "        <td>coffee cup</td>\n",
       "        <td>139744599079637</td>\n",
       "    </tr>\n",
       "    <tr>\n",
       "        <td>lightbulb</td>\n",
       "        <td>139744599079637</td>\n",
       "    </tr>\n",
       "    <tr>\n",
       "        <td>ring</td>\n",
       "        <td>139744599079637</td>\n",
       "    </tr>\n",
       "    <tr>\n",
       "        <td>teapot</td>\n",
       "        <td>139744599079637</td>\n",
       "    </tr>\n",
       "</table>"
      ]
     },
     "execution_count": null,
     "metadata": {},
     "output_type": "execute_result"
    }
   ],
   "source": [
    "%%sql\n",
    "UPDATE item\n",
    "SET OWNER = 20\n",
    "WHERE OWNER IS NULL;\n",
    "\n",
    "\n",
    "SELECT item,\n",
    "    salt_033(sum(hash) OVER ()) AS token\n",
    "FROM item\n",
    "WHERE OWNER = 20\n",
    "--> Episode [024]"
   ]
  },
  {
   "cell_type": "markdown",
   "id": "06ee8bf1",
   "metadata": {},
   "source": [
    "**Episode [024].**"
   ]
  },
  {
   "cell_type": "markdown",
   "id": "f2ee3441",
   "metadata": {},
   "source": [
    "**Statement.** Find a friendly inhabitant who is either a dealer or a merchant. Maybe they want to buy some of your items.\n",
    "\n",
    "_Tip._ When you use both `AND` and `OR`, don't forget to put brackets correctly!"
   ]
  },
  {
   "cell_type": "code",
   "execution_count": null,
   "id": "da09c926",
   "metadata": {},
   "outputs": [
    {
     "data": {
      "text/html": [
       "<span style=\"color: green\">3 rows affected.</span>"
      ],
      "text/plain": [
       "3 rows affected."
      ]
     },
     "metadata": {},
     "output_type": "display_data"
    },
    {
     "data": {
      "text/html": [
       "<table>\n",
       "    <tr>\n",
       "        <th>personid</th>\n",
       "        <th>name</th>\n",
       "        <th>villageid</th>\n",
       "        <th>gender</th>\n",
       "        <th>job</th>\n",
       "        <th>gold</th>\n",
       "        <th>state</th>\n",
       "        <th>hash</th>\n",
       "        <th>token</th>\n",
       "    </tr>\n",
       "    <tr>\n",
       "        <td>4</td>\n",
       "        <td>Carl Ox</td>\n",
       "        <td>1</td>\n",
       "        <td>m</td>\n",
       "        <td>merchant</td>\n",
       "        <td>250</td>\n",
       "        <td>friendly</td>\n",
       "        <td>843473717421</td>\n",
       "        <td>166788243175236</td>\n",
       "    </tr>\n",
       "    <tr>\n",
       "        <td>12</td>\n",
       "        <td>Otto Alexander</td>\n",
       "        <td>2</td>\n",
       "        <td>m</td>\n",
       "        <td>dealer</td>\n",
       "        <td>680</td>\n",
       "        <td>friendly</td>\n",
       "        <td>371232179800</td>\n",
       "        <td>166788243175236</td>\n",
       "    </tr>\n",
       "    <tr>\n",
       "        <td>15</td>\n",
       "        <td>Helen Grasshead</td>\n",
       "        <td>2</td>\n",
       "        <td>f</td>\n",
       "        <td>dealer</td>\n",
       "        <td>680</td>\n",
       "        <td>friendly</td>\n",
       "        <td>618786795696</td>\n",
       "        <td>166788243175236</td>\n",
       "    </tr>\n",
       "</table>"
      ]
     },
     "execution_count": null,
     "metadata": {},
     "output_type": "execute_result"
    }
   ],
   "source": [
    "%%sql\n",
    "SELECT *,\n",
    "    salt_024(sum(hash) OVER ()) AS token\n",
    "FROM inhabitant\n",
    "WHERE state = 'friendly'\n",
    "    AND (job = 'dealer'\n",
    "         OR job = 'merchant')\n",
    "--> Episode [034]"
   ]
  },
  {
   "cell_type": "markdown",
   "id": "dc377cff",
   "metadata": {},
   "source": [
    "**Episode [034].** I'd like to get the ring and the teapot. The rest is nothing but scrap. Please give me the two items. My `personid` is 15."
   ]
  },
  {
   "cell_type": "markdown",
   "id": "4d68b3f4",
   "metadata": {},
   "source": [
    "**Statement.** Afterwards, check the items that she owns."
   ]
  },
  {
   "cell_type": "code",
   "execution_count": null,
   "id": "567d9474",
   "metadata": {},
   "outputs": [
    {
     "data": {
      "text/html": [
       "<span style=\"color: green\">2 rows affected.</span>"
      ],
      "text/plain": [
       "2 rows affected."
      ]
     },
     "metadata": {},
     "output_type": "display_data"
    },
    {
     "data": {
      "text/html": [
       "<span style=\"color: green\">2 rows affected.</span>"
      ],
      "text/plain": [
       "2 rows affected."
      ]
     },
     "metadata": {},
     "output_type": "display_data"
    },
    {
     "data": {
      "text/html": [
       "<table>\n",
       "    <tr>\n",
       "        <th>item</th>\n",
       "        <th>owner</th>\n",
       "        <th>hash</th>\n",
       "        <th>token</th>\n",
       "    </tr>\n",
       "    <tr>\n",
       "        <td>ring</td>\n",
       "        <td>15</td>\n",
       "        <td>972837695337</td>\n",
       "        <td>261661938333343</td>\n",
       "    </tr>\n",
       "    <tr>\n",
       "        <td>teapot</td>\n",
       "        <td>15</td>\n",
       "        <td>503611185415</td>\n",
       "        <td>261661938333343</td>\n",
       "    </tr>\n",
       "</table>"
      ]
     },
     "execution_count": null,
     "metadata": {},
     "output_type": "execute_result"
    }
   ],
   "source": [
    "%%sql\n",
    "UPDATE item\n",
    "SET OWNER = 15\n",
    "WHERE item = 'ring'\n",
    "    OR item = 'teapot';\n",
    "\n",
    "\n",
    "SELECT *,\n",
    "    salt_034(sum(hash) OVER ()) AS token\n",
    "FROM item\n",
    "WHERE OWNER = 15\n",
    "--> Episode [091]"
   ]
  },
  {
   "cell_type": "markdown",
   "id": "f6eaf797",
   "metadata": {},
   "source": [
    "**Episode [091].**\n",
    "\n",
    "— Thank you! Here, some gold!"
   ]
  },
  {
   "cell_type": "markdown",
   "id": "6658bd94",
   "metadata": {},
   "source": [
    "**Statement.** Substract 120 from Helen's gold, add 120 to yours, and then check the new amounts of your two rows."
   ]
  },
  {
   "cell_type": "code",
   "execution_count": null,
   "id": "864720c1",
   "metadata": {},
   "outputs": [
    {
     "data": {
      "text/html": [
       "<span style=\"color: green\">1 rows affected.</span>"
      ],
      "text/plain": [
       "1 rows affected."
      ]
     },
     "metadata": {},
     "output_type": "display_data"
    },
    {
     "data": {
      "text/html": [
       "<span style=\"color: green\">1 rows affected.</span>"
      ],
      "text/plain": [
       "1 rows affected."
      ]
     },
     "metadata": {},
     "output_type": "display_data"
    },
    {
     "data": {
      "text/html": [
       "<span style=\"color: green\">2 rows affected.</span>"
      ],
      "text/plain": [
       "2 rows affected."
      ]
     },
     "metadata": {},
     "output_type": "display_data"
    },
    {
     "data": {
      "text/html": [
       "<table>\n",
       "    <tr>\n",
       "        <th>name</th>\n",
       "        <th>gold</th>\n",
       "        <th>token</th>\n",
       "    </tr>\n",
       "    <tr>\n",
       "        <td>Helen Grasshead</td>\n",
       "        <td>560</td>\n",
       "        <td>34807888636366</td>\n",
       "    </tr>\n",
       "    <tr>\n",
       "        <td>Stranger</td>\n",
       "        <td>120</td>\n",
       "        <td>34807888636366</td>\n",
       "    </tr>\n",
       "</table>"
      ]
     },
     "execution_count": null,
     "metadata": {},
     "output_type": "execute_result"
    }
   ],
   "source": [
    "%%sql\n",
    "UPDATE inhabitant\n",
    "SET gold = gold - 120\n",
    "WHERE personid = 15;\n",
    "\n",
    "\n",
    "UPDATE inhabitant\n",
    "SET gold = gold + 120\n",
    "WHERE personid = 20;\n",
    "\n",
    "\n",
    "SELECT name, gold,\n",
    "    salt_091(sum(hash) OVER ()) AS token\n",
    "FROM inhabitant\n",
    "WHERE personid IN (15, 20)\n",
    "--> Episode [080]"
   ]
  },
  {
   "cell_type": "code",
   "execution_count": null,
   "id": "45ad531e",
   "metadata": {},
   "outputs": [
    {
     "data": {
      "text/html": [
       "<span style=\"color: green\">20 rows affected.</span>"
      ],
      "text/plain": [
       "20 rows affected."
      ]
     },
     "metadata": {},
     "output_type": "display_data"
    },
    {
     "data": {
      "text/html": [
       "<table>\n",
       "    <tr>\n",
       "        <th>name</th>\n",
       "        <th>gold</th>\n",
       "        <th>token</th>\n",
       "    </tr>\n",
       "    <tr>\n",
       "        <td>Paul Bakerman</td>\n",
       "        <td>850</td>\n",
       "        <td>24919761524173</td>\n",
       "    </tr>\n",
       "    <tr>\n",
       "        <td>Ernest Perry</td>\n",
       "        <td>280</td>\n",
       "        <td>24919761524173</td>\n",
       "    </tr>\n",
       "    <tr>\n",
       "        <td>Rita Ox</td>\n",
       "        <td>350</td>\n",
       "        <td>24919761524173</td>\n",
       "    </tr>\n",
       "    <tr>\n",
       "        <td>Carl Ox</td>\n",
       "        <td>250</td>\n",
       "        <td>24919761524173</td>\n",
       "    </tr>\n",
       "    <tr>\n",
       "        <td>Dirty Dieter</td>\n",
       "        <td>650</td>\n",
       "        <td>24919761524173</td>\n",
       "    </tr>\n",
       "    <tr>\n",
       "        <td>Gerry Slaughterer</td>\n",
       "        <td>4850</td>\n",
       "        <td>24919761524173</td>\n",
       "    </tr>\n",
       "    <tr>\n",
       "        <td>Peter Slaughterer</td>\n",
       "        <td>3250</td>\n",
       "        <td>24919761524173</td>\n",
       "    </tr>\n",
       "    <tr>\n",
       "        <td>Arthur Tailor</td>\n",
       "        <td>490</td>\n",
       "        <td>24919761524173</td>\n",
       "    </tr>\n",
       "    <tr>\n",
       "        <td>Tiffany Drummer</td>\n",
       "        <td>550</td>\n",
       "        <td>24919761524173</td>\n",
       "    </tr>\n",
       "    <tr>\n",
       "        <td>Peter Drummer</td>\n",
       "        <td>600</td>\n",
       "        <td>24919761524173</td>\n",
       "    </tr>\n",
       "    <tr>\n",
       "        <td>Dirty Diane</td>\n",
       "        <td>10</td>\n",
       "        <td>24919761524173</td>\n",
       "    </tr>\n",
       "    <tr>\n",
       "        <td>Otto Alexander</td>\n",
       "        <td>680</td>\n",
       "        <td>24919761524173</td>\n",
       "    </tr>\n",
       "    <tr>\n",
       "        <td>Fred Dix</td>\n",
       "        <td>420</td>\n",
       "        <td>24919761524173</td>\n",
       "    </tr>\n",
       "    <tr>\n",
       "        <td>Enrico Carpenter</td>\n",
       "        <td>510</td>\n",
       "        <td>24919761524173</td>\n",
       "    </tr>\n",
       "    <tr>\n",
       "        <td>Helen Grasshead</td>\n",
       "        <td>560</td>\n",
       "        <td>24919761524173</td>\n",
       "    </tr>\n",
       "    <tr>\n",
       "        <td>Ivy Hatter</td>\n",
       "        <td>770</td>\n",
       "        <td>24919761524173</td>\n",
       "    </tr>\n",
       "    <tr>\n",
       "        <td>Edward Grasshead</td>\n",
       "        <td>990</td>\n",
       "        <td>24919761524173</td>\n",
       "    </tr>\n",
       "    <tr>\n",
       "        <td>Ryan Horse</td>\n",
       "        <td>390</td>\n",
       "        <td>24919761524173</td>\n",
       "    </tr>\n",
       "    <tr>\n",
       "        <td>Ann Meaty</td>\n",
       "        <td>2280</td>\n",
       "        <td>24919761524173</td>\n",
       "    </tr>\n",
       "    <tr>\n",
       "        <td>Stranger</td>\n",
       "        <td>120</td>\n",
       "        <td>24919761524173</td>\n",
       "    </tr>\n",
       "</table>"
      ]
     },
     "execution_count": null,
     "metadata": {},
     "output_type": "execute_result"
    }
   ],
   "source": [
    "%%sql\n",
    "-- Hint. Restrict the result to the row of Helen (15) and yours (20).\n",
    "SELECT name, gold,\n",
    "    salt_091(sum(hash) OVER ()) AS token\n",
    "FROM inhabitant"
   ]
  },
  {
   "cell_type": "markdown",
   "id": "fe533b05",
   "metadata": {},
   "source": [
    "**Episode [080].** Unfortunately, that's not enough gold to buy a sword. Seems like I do have to work after all. Maybe it's not a bad idea to change my name from Stranger to my real name before I will apply for a job."
   ]
  },
  {
   "cell_type": "markdown",
   "id": "655099c3",
   "metadata": {},
   "source": [
    "**Statement.** Update your name to 'Leslie Qualls' and show the updated row."
   ]
  },
  {
   "cell_type": "code",
   "execution_count": null,
   "id": "0b4fbc03",
   "metadata": {},
   "outputs": [
    {
     "data": {
      "text/html": [
       "<span style=\"color: green\">1 rows affected.</span>"
      ],
      "text/plain": [
       "1 rows affected."
      ]
     },
     "metadata": {},
     "output_type": "display_data"
    },
    {
     "data": {
      "text/html": [
       "<span style=\"color: green\">1 rows affected.</span>"
      ],
      "text/plain": [
       "1 rows affected."
      ]
     },
     "metadata": {},
     "output_type": "display_data"
    },
    {
     "data": {
      "text/html": [
       "<table>\n",
       "    <tr>\n",
       "        <th>personid</th>\n",
       "        <th>name</th>\n",
       "        <th>villageid</th>\n",
       "        <th>gender</th>\n",
       "        <th>job</th>\n",
       "        <th>gold</th>\n",
       "        <th>state</th>\n",
       "        <th>hash</th>\n",
       "        <th>token</th>\n",
       "    </tr>\n",
       "    <tr>\n",
       "        <td>20</td>\n",
       "        <td>Leslie Qualls</td>\n",
       "        <td>1</td>\n",
       "        <td>?</td>\n",
       "        <td>?</td>\n",
       "        <td>120</td>\n",
       "        <td>?</td>\n",
       "        <td>815181808020</td>\n",
       "        <td>18314467662514</td>\n",
       "    </tr>\n",
       "</table>"
      ]
     },
     "execution_count": null,
     "metadata": {},
     "output_type": "execute_result"
    }
   ],
   "source": [
    "%%sql\n",
    "UPDATE inhabitant\n",
    "SET name = 'Leslie Qualls'\n",
    "WHERE personid = 20;\n",
    "\n",
    "\n",
    "SELECT *,\n",
    "    salt_080(sum(hash) OVER ()) AS token\n",
    "FROM inhabitant\n",
    "WHERE personid = 20\n",
    "--> Episode [078]"
   ]
  },
  {
   "cell_type": "code",
   "execution_count": null,
   "id": "1a9665d9",
   "metadata": {},
   "outputs": [
    {
     "data": {
      "text/html": [
       "<span style=\"color: green\">20 rows affected.</span>"
      ],
      "text/plain": [
       "20 rows affected."
      ]
     },
     "metadata": {},
     "output_type": "display_data"
    },
    {
     "data": {
      "text/html": [
       "<table>\n",
       "    <tr>\n",
       "        <th>personid</th>\n",
       "        <th>name</th>\n",
       "        <th>villageid</th>\n",
       "        <th>gender</th>\n",
       "        <th>job</th>\n",
       "        <th>gold</th>\n",
       "        <th>state</th>\n",
       "        <th>hash</th>\n",
       "        <th>token</th>\n",
       "    </tr>\n",
       "    <tr>\n",
       "        <td>1</td>\n",
       "        <td>Paul Bakerman</td>\n",
       "        <td>1</td>\n",
       "        <td>m</td>\n",
       "        <td>baker</td>\n",
       "        <td>850</td>\n",
       "        <td>friendly</td>\n",
       "        <td>667574576304</td>\n",
       "        <td>28691699637667</td>\n",
       "    </tr>\n",
       "    <tr>\n",
       "        <td>2</td>\n",
       "        <td>Ernest Perry</td>\n",
       "        <td>3</td>\n",
       "        <td>m</td>\n",
       "        <td>weaponsmith</td>\n",
       "        <td>280</td>\n",
       "        <td>friendly</td>\n",
       "        <td>73993229357</td>\n",
       "        <td>28691699637667</td>\n",
       "    </tr>\n",
       "    <tr>\n",
       "        <td>3</td>\n",
       "        <td>Rita Ox</td>\n",
       "        <td>1</td>\n",
       "        <td>f</td>\n",
       "        <td>baker</td>\n",
       "        <td>350</td>\n",
       "        <td>friendly</td>\n",
       "        <td>41932111594</td>\n",
       "        <td>28691699637667</td>\n",
       "    </tr>\n",
       "    <tr>\n",
       "        <td>4</td>\n",
       "        <td>Carl Ox</td>\n",
       "        <td>1</td>\n",
       "        <td>m</td>\n",
       "        <td>merchant</td>\n",
       "        <td>250</td>\n",
       "        <td>friendly</td>\n",
       "        <td>843473717421</td>\n",
       "        <td>28691699637667</td>\n",
       "    </tr>\n",
       "    <tr>\n",
       "        <td>5</td>\n",
       "        <td>Dirty Dieter</td>\n",
       "        <td>3</td>\n",
       "        <td>m</td>\n",
       "        <td>smith</td>\n",
       "        <td>650</td>\n",
       "        <td>evil</td>\n",
       "        <td>637588674311</td>\n",
       "        <td>28691699637667</td>\n",
       "    </tr>\n",
       "    <tr>\n",
       "        <td>6</td>\n",
       "        <td>Gerry Slaughterer</td>\n",
       "        <td>2</td>\n",
       "        <td>m</td>\n",
       "        <td>butcher</td>\n",
       "        <td>4850</td>\n",
       "        <td>evil</td>\n",
       "        <td>872618219253</td>\n",
       "        <td>28691699637667</td>\n",
       "    </tr>\n",
       "    <tr>\n",
       "        <td>7</td>\n",
       "        <td>Peter Slaughterer</td>\n",
       "        <td>3</td>\n",
       "        <td>m</td>\n",
       "        <td>butcher</td>\n",
       "        <td>3250</td>\n",
       "        <td>evil</td>\n",
       "        <td>648197551204</td>\n",
       "        <td>28691699637667</td>\n",
       "    </tr>\n",
       "    <tr>\n",
       "        <td>8</td>\n",
       "        <td>Arthur Tailor</td>\n",
       "        <td>2</td>\n",
       "        <td>m</td>\n",
       "        <td>pilot</td>\n",
       "        <td>490</td>\n",
       "        <td>kidnapped</td>\n",
       "        <td>823379478192</td>\n",
       "        <td>28691699637667</td>\n",
       "    </tr>\n",
       "    <tr>\n",
       "        <td>9</td>\n",
       "        <td>Tiffany Drummer</td>\n",
       "        <td>1</td>\n",
       "        <td>f</td>\n",
       "        <td>baker</td>\n",
       "        <td>550</td>\n",
       "        <td>evil</td>\n",
       "        <td>434738589188</td>\n",
       "        <td>28691699637667</td>\n",
       "    </tr>\n",
       "    <tr>\n",
       "        <td>10</td>\n",
       "        <td>Peter Drummer</td>\n",
       "        <td>1</td>\n",
       "        <td>m</td>\n",
       "        <td>smith</td>\n",
       "        <td>600</td>\n",
       "        <td>friendly</td>\n",
       "        <td>713565808545</td>\n",
       "        <td>28691699637667</td>\n",
       "    </tr>\n",
       "    <tr>\n",
       "        <td>11</td>\n",
       "        <td>Dirty Diane</td>\n",
       "        <td>3</td>\n",
       "        <td>f</td>\n",
       "        <td>farmer</td>\n",
       "        <td>10</td>\n",
       "        <td>evil</td>\n",
       "        <td>317598695175</td>\n",
       "        <td>28691699637667</td>\n",
       "    </tr>\n",
       "    <tr>\n",
       "        <td>12</td>\n",
       "        <td>Otto Alexander</td>\n",
       "        <td>2</td>\n",
       "        <td>m</td>\n",
       "        <td>dealer</td>\n",
       "        <td>680</td>\n",
       "        <td>friendly</td>\n",
       "        <td>371232179800</td>\n",
       "        <td>28691699637667</td>\n",
       "    </tr>\n",
       "    <tr>\n",
       "        <td>13</td>\n",
       "        <td>Fred Dix</td>\n",
       "        <td>3</td>\n",
       "        <td>m</td>\n",
       "        <td>author</td>\n",
       "        <td>420</td>\n",
       "        <td>friendly</td>\n",
       "        <td>865222686964</td>\n",
       "        <td>28691699637667</td>\n",
       "    </tr>\n",
       "    <tr>\n",
       "        <td>14</td>\n",
       "        <td>Enrico Carpenter</td>\n",
       "        <td>3</td>\n",
       "        <td>m</td>\n",
       "        <td>weaponsmith</td>\n",
       "        <td>510</td>\n",
       "        <td>evil</td>\n",
       "        <td>1052048305797</td>\n",
       "        <td>28691699637667</td>\n",
       "    </tr>\n",
       "    <tr>\n",
       "        <td>15</td>\n",
       "        <td>Helen Grasshead</td>\n",
       "        <td>2</td>\n",
       "        <td>f</td>\n",
       "        <td>dealer</td>\n",
       "        <td>560</td>\n",
       "        <td>friendly</td>\n",
       "        <td>335525955822</td>\n",
       "        <td>28691699637667</td>\n",
       "    </tr>\n",
       "    <tr>\n",
       "        <td>16</td>\n",
       "        <td>Ivy Hatter</td>\n",
       "        <td>1</td>\n",
       "        <td>f</td>\n",
       "        <td>dealer</td>\n",
       "        <td>770</td>\n",
       "        <td>evil</td>\n",
       "        <td>255939466731</td>\n",
       "        <td>28691699637667</td>\n",
       "    </tr>\n",
       "    <tr>\n",
       "        <td>17</td>\n",
       "        <td>Edward Grasshead</td>\n",
       "        <td>3</td>\n",
       "        <td>m</td>\n",
       "        <td>butcher</td>\n",
       "        <td>990</td>\n",
       "        <td>friendly</td>\n",
       "        <td>296311699507</td>\n",
       "        <td>28691699637667</td>\n",
       "    </tr>\n",
       "    <tr>\n",
       "        <td>18</td>\n",
       "        <td>Ryan Horse</td>\n",
       "        <td>3</td>\n",
       "        <td>m</td>\n",
       "        <td>blacksmith</td>\n",
       "        <td>390</td>\n",
       "        <td>friendly</td>\n",
       "        <td>98143389713</td>\n",
       "        <td>28691699637667</td>\n",
       "    </tr>\n",
       "    <tr>\n",
       "        <td>19</td>\n",
       "        <td>Ann Meaty</td>\n",
       "        <td>2</td>\n",
       "        <td>f</td>\n",
       "        <td>butcher</td>\n",
       "        <td>2280</td>\n",
       "        <td>friendly</td>\n",
       "        <td>889525893587</td>\n",
       "        <td>28691699637667</td>\n",
       "    </tr>\n",
       "    <tr>\n",
       "        <td>20</td>\n",
       "        <td>Leslie Qualls</td>\n",
       "        <td>1</td>\n",
       "        <td>?</td>\n",
       "        <td>?</td>\n",
       "        <td>120</td>\n",
       "        <td>?</td>\n",
       "        <td>815181808020</td>\n",
       "        <td>28691699637667</td>\n",
       "    </tr>\n",
       "</table>"
      ]
     },
     "execution_count": null,
     "metadata": {},
     "output_type": "execute_result"
    }
   ],
   "source": [
    "%%sql\n",
    "-- Hint. Restrict the result to your row (20).\n",
    "SELECT *,\n",
    "    salt_080(sum(hash) OVER ()) AS token\n",
    "FROM inhabitant"
   ]
  },
  {
   "cell_type": "markdown",
   "id": "3bdd611e",
   "metadata": {},
   "source": [
    "## `ORDER BY`"
   ]
  },
  {
   "cell_type": "markdown",
   "id": "9601dee5",
   "metadata": {},
   "source": [
    "**Episode [078].**"
   ]
  },
  {
   "cell_type": "markdown",
   "id": "ef7e6b84",
   "metadata": {},
   "source": [
    "**Statement.** Since baking is one of your hobbies, why not find a baker who you can work for?\n",
    "\n",
    "_Tip._ List all bakers and use `ORDER BY` gold to sort the results. `ORDER BY` gold `DESC` is even better because then the richest baker is on top."
   ]
  },
  {
   "cell_type": "code",
   "execution_count": null,
   "id": "7e79d117",
   "metadata": {},
   "outputs": [],
   "source": [
    "x = 850 # gold on the first row"
   ]
  },
  {
   "cell_type": "code",
   "execution_count": null,
   "id": "d505d134",
   "metadata": {},
   "outputs": [
    {
     "data": {
      "text/html": [
       "<span style=\"color: green\">3 rows affected.</span>"
      ],
      "text/plain": [
       "3 rows affected."
      ]
     },
     "metadata": {},
     "output_type": "display_data"
    },
    {
     "data": {
      "text/html": [
       "<table>\n",
       "    <tr>\n",
       "        <th>personid</th>\n",
       "        <th>name</th>\n",
       "        <th>villageid</th>\n",
       "        <th>gender</th>\n",
       "        <th>job</th>\n",
       "        <th>gold</th>\n",
       "        <th>state</th>\n",
       "        <th>hash</th>\n",
       "        <th>token</th>\n",
       "    </tr>\n",
       "    <tr>\n",
       "        <td>1</td>\n",
       "        <td>Paul Bakerman</td>\n",
       "        <td>1</td>\n",
       "        <td>m</td>\n",
       "        <td>baker</td>\n",
       "        <td>850</td>\n",
       "        <td>friendly</td>\n",
       "        <td>667574576304</td>\n",
       "        <td>34285849059910</td>\n",
       "    </tr>\n",
       "    <tr>\n",
       "        <td>9</td>\n",
       "        <td>Tiffany Drummer</td>\n",
       "        <td>1</td>\n",
       "        <td>f</td>\n",
       "        <td>baker</td>\n",
       "        <td>550</td>\n",
       "        <td>evil</td>\n",
       "        <td>434738589188</td>\n",
       "        <td>34285849059910</td>\n",
       "    </tr>\n",
       "    <tr>\n",
       "        <td>3</td>\n",
       "        <td>Rita Ox</td>\n",
       "        <td>1</td>\n",
       "        <td>f</td>\n",
       "        <td>baker</td>\n",
       "        <td>350</td>\n",
       "        <td>friendly</td>\n",
       "        <td>41932111594</td>\n",
       "        <td>34285849059910</td>\n",
       "    </tr>\n",
       "</table>"
      ]
     },
     "execution_count": null,
     "metadata": {},
     "output_type": "execute_result"
    }
   ],
   "source": [
    "%%sql\n",
    "SELECT *,\n",
    "    salt_078({{x}} + sum(hash) OVER ()) AS token\n",
    "FROM inhabitant\n",
    "WHERE job = 'baker'\n",
    "ORDER BY gold DESC\n",
    "--> Episode [010]"
   ]
  },
  {
   "cell_type": "code",
   "execution_count": null,
   "id": "767fc644",
   "metadata": {},
   "outputs": [],
   "source": [
    "assert col(\"gold\")[0] == x"
   ]
  },
  {
   "cell_type": "markdown",
   "id": "90574714",
   "metadata": {},
   "source": [
    "**Episode [010].** Aha, Paul! I know him!\n",
    "\n",
    "– Hi, you again! I saw you want to work as a baker? Okay! You will be paid 1 gold for 100 bread rolls.\n",
    "\n",
    "(8 hours later...)\n",
    "\n",
    "– Here, I made ten thousand bread rolls! I quit! This should be enough money to buy a sword. Let's see what happens with my gold balance.\n",
    "\n",
    "Here's your new sword, Losloo Qoolls! Now you can go everywhere."
   ]
  },
  {
   "cell_type": "markdown",
   "id": "caf203f4",
   "metadata": {},
   "source": [
    "**Statement.** Update your gold by adding your salary (100) and substracting the price of the sword (150)."
   ]
  },
  {
   "cell_type": "code",
   "execution_count": null,
   "id": "0a1df9ab",
   "metadata": {},
   "outputs": [
    {
     "data": {
      "text/html": [
       "<span style=\"color: green\">1 rows affected.</span>"
      ],
      "text/plain": [
       "1 rows affected."
      ]
     },
     "metadata": {},
     "output_type": "display_data"
    },
    {
     "data": {
      "text/html": [
       "<span style=\"color: green\">1 rows affected.</span>"
      ],
      "text/plain": [
       "1 rows affected."
      ]
     },
     "metadata": {},
     "output_type": "display_data"
    },
    {
     "data": {
      "text/html": [
       "<table>\n",
       "    <tr>\n",
       "        <th>name</th>\n",
       "        <th>gold</th>\n",
       "        <th>token</th>\n",
       "    </tr>\n",
       "    <tr>\n",
       "        <td>Leslie Qualls</td>\n",
       "        <td>70</td>\n",
       "        <td>157095709958947</td>\n",
       "    </tr>\n",
       "</table>"
      ]
     },
     "execution_count": null,
     "metadata": {},
     "output_type": "execute_result"
    }
   ],
   "source": [
    "%%sql\n",
    "UPDATE inhabitant\n",
    "SET gold = gold + 100 - 150\n",
    "WHERE personid = 20;\n",
    "\n",
    "\n",
    "SELECT name, gold,\n",
    "    salt_010(sum(hash) OVER ()) AS token\n",
    "FROM inhabitant\n",
    "WHERE personid = 20\n",
    "--> Episode [086]"
   ]
  },
  {
   "cell_type": "markdown",
   "id": "510fb142",
   "metadata": {},
   "source": [
    "**Episode [086].**\n",
    "\n",
    "– My name is Leslie qualls! Thanks anyway!"
   ]
  },
  {
   "cell_type": "markdown",
   "id": "3cc9fb9e",
   "metadata": {},
   "source": [
    "**Statement.** Is there a pilot on this island by any chance? He could fly you home."
   ]
  },
  {
   "cell_type": "code",
   "execution_count": null,
   "id": "c7748298",
   "metadata": {},
   "outputs": [
    {
     "data": {
      "text/html": [
       "<span style=\"color: green\">1 rows affected.</span>"
      ],
      "text/plain": [
       "1 rows affected."
      ]
     },
     "metadata": {},
     "output_type": "display_data"
    },
    {
     "data": {
      "text/html": [
       "<table>\n",
       "    <tr>\n",
       "        <th>personid</th>\n",
       "        <th>name</th>\n",
       "        <th>villageid</th>\n",
       "        <th>gender</th>\n",
       "        <th>job</th>\n",
       "        <th>gold</th>\n",
       "        <th>state</th>\n",
       "        <th>hash</th>\n",
       "        <th>token</th>\n",
       "    </tr>\n",
       "    <tr>\n",
       "        <td>8</td>\n",
       "        <td>Arthur Tailor</td>\n",
       "        <td>2</td>\n",
       "        <td>m</td>\n",
       "        <td>pilot</td>\n",
       "        <td>490</td>\n",
       "        <td>kidnapped</td>\n",
       "        <td>823379478192</td>\n",
       "        <td>229615318980909</td>\n",
       "    </tr>\n",
       "</table>"
      ]
     },
     "execution_count": null,
     "metadata": {},
     "output_type": "execute_result"
    }
   ],
   "source": [
    "%%sql\n",
    "SELECT *,\n",
    "    salt_086(sum(hash) OVER ()) AS token\n",
    "FROM inhabitant\n",
    "WHERE job = 'pilot'\n",
    "--> Episode [029]"
   ]
  },
  {
   "cell_type": "markdown",
   "id": "3f0be868",
   "metadata": {},
   "source": [
    "## Joins"
   ]
  },
  {
   "cell_type": "markdown",
   "id": "551b942d",
   "metadata": {},
   "source": [
    "**Episode [029].** Oh no, his state is 'kidnapped'.\n",
    "\n",
    "Horrible, the pilot is held captive by Dirty Dieter! I will show you a trick how to find out the name of the village where Dirty Dieter lives.\n",
    "\n",
    "```sql\n",
    "SELECT A.name\n",
    "FROM village A, inhabitant B\n",
    "WHERE A.villageid = B.villageid AND B.name = 'Dirty Dieter'\n",
    "```"
   ]
  },
  {
   "cell_type": "markdown",
   "id": "ab9740fb",
   "metadata": {},
   "source": [
    "**Statement.** Copy-paste the previous query, add the given formula, and execute it."
   ]
  },
  {
   "cell_type": "code",
   "execution_count": null,
   "id": "2a875a4e",
   "metadata": {},
   "outputs": [
    {
     "data": {
      "text/html": [
       "<span style=\"color: green\">1 rows affected.</span>"
      ],
      "text/plain": [
       "1 rows affected."
      ]
     },
     "metadata": {},
     "output_type": "display_data"
    },
    {
     "data": {
      "text/html": [
       "<table>\n",
       "    <tr>\n",
       "        <th>name</th>\n",
       "        <th>token</th>\n",
       "    </tr>\n",
       "    <tr>\n",
       "        <td>Onionville</td>\n",
       "        <td>256975312978711</td>\n",
       "    </tr>\n",
       "</table>"
      ]
     },
     "execution_count": null,
     "metadata": {},
     "output_type": "execute_result"
    }
   ],
   "source": [
    "%%sql\n",
    "-- The expression presented here is called a join. It combines the information of the `inhabitant` table with\n",
    "-- information of the `village` table by matching `villageid` values.\n",
    "SELECT A.name,\n",
    "    salt_029(sum(A.hash + B.hash) OVER ()) AS token\n",
    "FROM village A, inhabitant B\n",
    "WHERE A.villageid = B.villageid\n",
    "    AND B.name = 'Dirty Dieter'\n",
    "--> Episode [045]"
   ]
  },
  {
   "cell_type": "markdown",
   "id": "178b5ed6",
   "metadata": {},
   "source": [
    "**Episode [045].**\n",
    "\n",
    "– Thanks for the hint!"
   ]
  },
  {
   "cell_type": "markdown",
   "id": "1741e69b",
   "metadata": {},
   "source": [
    "**Statement.** Use the join to find out the chief's name of the village Onionville.\n",
    "\n",
    "_Tip._ In the column `chief` in the village table, the `personid` of the chief is stored."
   ]
  },
  {
   "cell_type": "code",
   "execution_count": null,
   "id": "a62e3600",
   "metadata": {},
   "outputs": [
    {
     "data": {
      "text/html": [
       "<span style=\"color: green\">1 rows affected.</span>"
      ],
      "text/plain": [
       "1 rows affected."
      ]
     },
     "metadata": {},
     "output_type": "display_data"
    },
    {
     "data": {
      "text/html": [
       "<table>\n",
       "    <tr>\n",
       "        <th>name</th>\n",
       "        <th>token</th>\n",
       "    </tr>\n",
       "    <tr>\n",
       "        <td>Fred Dix</td>\n",
       "        <td>240365303417698</td>\n",
       "    </tr>\n",
       "</table>"
      ]
     },
     "execution_count": null,
     "metadata": {},
     "output_type": "execute_result"
    }
   ],
   "source": [
    "%%sql\n",
    "SELECT B.name,\n",
    "    salt_045(sum(A.hash + B.hash) OVER ()) AS token\n",
    "FROM village A, inhabitant B\n",
    "WHERE A.chief = B.personid\n",
    "    AND A.name = 'Onionville'\n",
    "--> Episode [012]"
   ]
  },
  {
   "cell_type": "code",
   "execution_count": null,
   "id": "84de7a34",
   "metadata": {},
   "outputs": [],
   "source": [
    "assert col(\"name\") == [\"Fred Dix\"]"
   ]
  },
  {
   "cell_type": "markdown",
   "id": "649e4da1",
   "metadata": {},
   "source": [
    "## `COUNT(*)`"
   ]
  },
  {
   "cell_type": "markdown",
   "id": "4938d30c",
   "metadata": {},
   "source": [
    "**Episode [012].** I've got it! I will visit Fred and ask him about Dirty Dieter and the pilot.\n",
    "\n",
    "Um, how many inhabitants does Onionville have?\n",
    "\n",
    "```sql\n",
    "SELECT COUNT(*) as population\n",
    "FROM inhabitant A, village B\n",
    "WHERE A.villageid = B.villageid\n",
    "AND B.name = 'Onionville'\n",
    "```"
   ]
  },
  {
   "cell_type": "markdown",
   "id": "0b6f5dab",
   "metadata": {},
   "source": [
    "**Statement.** Copy-paste the previous query, add the given formula, and execute it."
   ]
  },
  {
   "cell_type": "code",
   "execution_count": null,
   "id": "1451535d",
   "metadata": {},
   "outputs": [],
   "source": [
    "x = 8 # this number"
   ]
  },
  {
   "cell_type": "code",
   "execution_count": null,
   "id": "c248e72d",
   "metadata": {},
   "outputs": [
    {
     "data": {
      "text/html": [
       "<span style=\"color: green\">1 rows affected.</span>"
      ],
      "text/plain": [
       "1 rows affected."
      ]
     },
     "metadata": {},
     "output_type": "display_data"
    },
    {
     "data": {
      "text/html": [
       "<table>\n",
       "    <tr>\n",
       "        <th>population</th>\n",
       "        <th>token</th>\n",
       "    </tr>\n",
       "    <tr>\n",
       "        <td>8</td>\n",
       "        <td>237781870732904</td>\n",
       "    </tr>\n",
       "</table>"
      ]
     },
     "execution_count": null,
     "metadata": {},
     "output_type": "execute_result"
    }
   ],
   "source": [
    "%%sql\n",
    "SELECT count(*) AS population,\n",
    "    salt_012({{x}} + sum(bit_xor(A.hash + B.hash)) OVER ()) AS token\n",
    "FROM inhabitant A, village B\n",
    "WHERE A.villageid = B.villageid\n",
    "    AND B.name = 'Onionville'\n",
    "--> Episode [032]"
   ]
  },
  {
   "cell_type": "code",
   "execution_count": null,
   "id": "ba46b536",
   "metadata": {},
   "outputs": [],
   "source": [
    "assert col(\"population\") == [x]"
   ]
  },
  {
   "cell_type": "markdown",
   "id": "1cc8339a",
   "metadata": {},
   "source": [
    "**Episode [032].**\n",
    "\n",
    "– Hello Leslie Qualls, the pilot is held captive by Dirty Dieter in his sister's house."
   ]
  },
  {
   "cell_type": "markdown",
   "id": "9f0130e5",
   "metadata": {},
   "source": [
    "**Statement.** Shall I tell you how many women there are in Onionville? Nah, you can figure it out by yourself!\n",
    "\n",
    "_Tip._ Women show up as gender = 'f'."
   ]
  },
  {
   "cell_type": "code",
   "execution_count": null,
   "id": "0373b9bc",
   "metadata": {},
   "outputs": [],
   "source": [
    "x = 1 # this number"
   ]
  },
  {
   "cell_type": "code",
   "execution_count": null,
   "id": "7f6a4e6b",
   "metadata": {},
   "outputs": [
    {
     "data": {
      "text/html": [
       "<span style=\"color: green\">1 rows affected.</span>"
      ],
      "text/plain": [
       "1 rows affected."
      ]
     },
     "metadata": {},
     "output_type": "display_data"
    },
    {
     "data": {
      "text/html": [
       "<table>\n",
       "    <tr>\n",
       "        <th>women</th>\n",
       "        <th>token</th>\n",
       "    </tr>\n",
       "    <tr>\n",
       "        <td>1</td>\n",
       "        <td>41535988500868</td>\n",
       "    </tr>\n",
       "</table>"
      ]
     },
     "execution_count": null,
     "metadata": {},
     "output_type": "execute_result"
    }
   ],
   "source": [
    "%%sql\n",
    "SELECT count(*) AS women,\n",
    "    salt_032({{x}} + sum(bit_xor(A.hash + B.hash)) OVER ()) AS token\n",
    "FROM inhabitant A, village B\n",
    "WHERE A.villageid = B.villageid\n",
    "    AND B.name = 'Onionville'\n",
    "    AND gender = 'f'\n",
    "--> Episode [036]"
   ]
  },
  {
   "cell_type": "code",
   "execution_count": null,
   "id": "f44a6e2c",
   "metadata": {},
   "outputs": [],
   "source": [
    "assert col(\"women\") == [x]"
   ]
  },
  {
   "cell_type": "markdown",
   "id": "190133db",
   "metadata": {},
   "source": [
    "**Episode [036].** Oh, only one woman."
   ]
  },
  {
   "cell_type": "markdown",
   "id": "ed7008a8",
   "metadata": {},
   "source": [
    "**Statement.** What's her name?"
   ]
  },
  {
   "cell_type": "code",
   "execution_count": null,
   "id": "5f43b0e0",
   "metadata": {},
   "outputs": [
    {
     "data": {
      "text/html": [
       "<span style=\"color: green\">1 rows affected.</span>"
      ],
      "text/plain": [
       "1 rows affected."
      ]
     },
     "metadata": {},
     "output_type": "display_data"
    },
    {
     "data": {
      "text/html": [
       "<table>\n",
       "    <tr>\n",
       "        <th>name</th>\n",
       "        <th>token</th>\n",
       "    </tr>\n",
       "    <tr>\n",
       "        <td>Dirty Diane</td>\n",
       "        <td>124493698100759</td>\n",
       "    </tr>\n",
       "</table>"
      ]
     },
     "execution_count": null,
     "metadata": {},
     "output_type": "execute_result"
    }
   ],
   "source": [
    "%%sql\n",
    "SELECT A.name,\n",
    "    salt_036(sum(A.hash + B.hash) OVER ()) AS token\n",
    "FROM inhabitant A, village B\n",
    "WHERE A.villageid = B.villageid\n",
    "    AND B.name = 'Onionville'\n",
    "    AND gender = 'f'\n",
    "--> Episode [035]"
   ]
  },
  {
   "cell_type": "code",
   "execution_count": null,
   "id": "2fb62fdd",
   "metadata": {},
   "outputs": [],
   "source": [
    "assert col(\"name\") == ['Dirty Diane']"
   ]
  },
  {
   "cell_type": "markdown",
   "id": "c3bf7a48",
   "metadata": {},
   "source": [
    "## `SUM()`"
   ]
  },
  {
   "cell_type": "markdown",
   "id": "6d66ba3c",
   "metadata": {},
   "source": [
    "**Episode [035].** Let's go!\n",
    "\n",
    "– Leslie Qualls, if you hand me over the entire property of our nearby village Cucumbertown, I will release the pilot. I will show you now what this property consists of.\n",
    "\n",
    "```sql\n",
    "SELECT SUM(A.gold) as total\n",
    "FROM inhabitant A, village B\n",
    "WHERE A.villageid = B.villageid\n",
    "AND B.name = 'Cucumbertown'\n",
    "```"
   ]
  },
  {
   "cell_type": "markdown",
   "id": "a298ce10",
   "metadata": {},
   "source": [
    "**Statement.** Copy-paste the previous query, add the given formula, and execute it."
   ]
  },
  {
   "cell_type": "code",
   "execution_count": null,
   "id": "5cc79844",
   "metadata": {},
   "outputs": [],
   "source": [
    "x = 8860 # this sum"
   ]
  },
  {
   "cell_type": "code",
   "execution_count": null,
   "id": "f51e56a7",
   "metadata": {},
   "outputs": [
    {
     "data": {
      "text/html": [
       "<span style=\"color: green\">1 rows affected.</span>"
      ],
      "text/plain": [
       "1 rows affected."
      ]
     },
     "metadata": {},
     "output_type": "display_data"
    },
    {
     "data": {
      "text/html": [
       "<table>\n",
       "    <tr>\n",
       "        <th>total</th>\n",
       "        <th>token</th>\n",
       "    </tr>\n",
       "    <tr>\n",
       "        <td>8860</td>\n",
       "        <td>152867079389134</td>\n",
       "    </tr>\n",
       "</table>"
      ]
     },
     "execution_count": null,
     "metadata": {},
     "output_type": "execute_result"
    }
   ],
   "source": [
    "%%sql\n",
    "SELECT sum(A.gold) AS total,\n",
    "    salt_035({{x}} + sum(bit_xor(A.hash + B.hash)) OVER ()) AS token\n",
    "FROM inhabitant A, village B\n",
    "WHERE A.villageid = B.villageid\n",
    "    AND B.name = 'Cucumbertown'\n",
    "--> Episode [046]"
   ]
  },
  {
   "cell_type": "code",
   "execution_count": null,
   "id": "9f4d8f38",
   "metadata": {},
   "outputs": [],
   "source": [
    "assert col(\"total\") == [x]"
   ]
  },
  {
   "cell_type": "markdown",
   "id": "88e22bfa",
   "metadata": {},
   "source": [
    "**Episode [046].** Oh no, baking bread alone can't solve my problems. If I continue working and selling items though, I could earn more gold than the worth of gold inventories of all bakers, dealers and merchants together."
   ]
  },
  {
   "cell_type": "markdown",
   "id": "0a3a0b0c",
   "metadata": {},
   "source": [
    "**Statement.** Sum the gold of all these people."
   ]
  },
  {
   "cell_type": "code",
   "execution_count": null,
   "id": "ff23d9a1",
   "metadata": {},
   "outputs": [],
   "source": [
    "x = 4010 # this sum"
   ]
  },
  {
   "cell_type": "code",
   "execution_count": null,
   "id": "3a838a88",
   "metadata": {},
   "outputs": [
    {
     "data": {
      "text/html": [
       "<span style=\"color: green\">1 rows affected.</span>"
      ],
      "text/plain": [
       "1 rows affected."
      ]
     },
     "metadata": {},
     "output_type": "display_data"
    },
    {
     "data": {
      "text/html": [
       "<table>\n",
       "    <tr>\n",
       "        <th>total</th>\n",
       "        <th>token</th>\n",
       "    </tr>\n",
       "    <tr>\n",
       "        <td>4010</td>\n",
       "        <td>203716599638991</td>\n",
       "    </tr>\n",
       "</table>"
      ]
     },
     "execution_count": null,
     "metadata": {},
     "output_type": "execute_result"
    }
   ],
   "source": [
    "%%sql\n",
    "SELECT sum(inhabitant.gold) AS total,\n",
    "    salt_046({{x}} + sum(bit_xor(hash)) OVER ()) AS token\n",
    "FROM inhabitant\n",
    "WHERE job IN ('baker', 'dealer', 'merchant')\n",
    "--> Episode [071]"
   ]
  },
  {
   "cell_type": "code",
   "execution_count": null,
   "id": "f263ebaf",
   "metadata": {},
   "outputs": [],
   "source": [
    "assert col(\"total\") == [x]"
   ]
  },
  {
   "cell_type": "markdown",
   "id": "bd28e92e",
   "metadata": {},
   "source": [
    "## `AVG()`"
   ]
  },
  {
   "cell_type": "markdown",
   "id": "315290c1",
   "metadata": {},
   "source": [
    "**Episode [071].** That's not enough.\n",
    "\n",
    "Let's have a look at how much average gold people own, depending on their job.\n",
    "\n",
    "```sql\n",
    "SELECT job, avg(gold)\n",
    "FROM inhabitant\n",
    "GROUP BY job\n",
    "ORDER BY avg(gold)\n",
    "```"
   ]
  },
  {
   "cell_type": "markdown",
   "id": "ca3737ad",
   "metadata": {},
   "source": [
    "**Statement.** Copy-paste the previous query, add the given formula, and execute it."
   ]
  },
  {
   "cell_type": "code",
   "execution_count": null,
   "id": "71d21e5f",
   "metadata": {},
   "outputs": [],
   "source": [
    "x = 2842.5000 # the average on the last row"
   ]
  },
  {
   "cell_type": "code",
   "execution_count": null,
   "id": "89294099",
   "metadata": {},
   "outputs": [
    {
     "data": {
      "text/html": [
       "<span style=\"color: green\">11 rows affected.</span>"
      ],
      "text/plain": [
       "11 rows affected."
      ]
     },
     "metadata": {},
     "output_type": "display_data"
    },
    {
     "data": {
      "text/html": [
       "<table>\n",
       "    <tr>\n",
       "        <th>job</th>\n",
       "        <th>average</th>\n",
       "        <th>token</th>\n",
       "    </tr>\n",
       "    <tr>\n",
       "        <td>farmer</td>\n",
       "        <td>10.0000</td>\n",
       "        <td>222167811363863</td>\n",
       "    </tr>\n",
       "    <tr>\n",
       "        <td>?</td>\n",
       "        <td>70.0000</td>\n",
       "        <td>222167811363863</td>\n",
       "    </tr>\n",
       "    <tr>\n",
       "        <td>merchant</td>\n",
       "        <td>250.0000</td>\n",
       "        <td>222167811363863</td>\n",
       "    </tr>\n",
       "    <tr>\n",
       "        <td>blacksmith</td>\n",
       "        <td>390.0000</td>\n",
       "        <td>222167811363863</td>\n",
       "    </tr>\n",
       "    <tr>\n",
       "        <td>weaponsmith</td>\n",
       "        <td>395.0000</td>\n",
       "        <td>222167811363863</td>\n",
       "    </tr>\n",
       "    <tr>\n",
       "        <td>author</td>\n",
       "        <td>420.0000</td>\n",
       "        <td>222167811363863</td>\n",
       "    </tr>\n",
       "    <tr>\n",
       "        <td>pilot</td>\n",
       "        <td>490.0000</td>\n",
       "        <td>222167811363863</td>\n",
       "    </tr>\n",
       "    <tr>\n",
       "        <td>baker</td>\n",
       "        <td>583.3333</td>\n",
       "        <td>222167811363863</td>\n",
       "    </tr>\n",
       "    <tr>\n",
       "        <td>smith</td>\n",
       "        <td>625.0000</td>\n",
       "        <td>222167811363863</td>\n",
       "    </tr>\n",
       "    <tr>\n",
       "        <td>dealer</td>\n",
       "        <td>670.0000</td>\n",
       "        <td>222167811363863</td>\n",
       "    </tr>\n",
       "    <tr>\n",
       "        <td>butcher</td>\n",
       "        <td>2842.5000</td>\n",
       "        <td>222167811363863</td>\n",
       "    </tr>\n",
       "</table>"
      ]
     },
     "execution_count": null,
     "metadata": {},
     "output_type": "execute_result"
    }
   ],
   "source": [
    "%%sql\n",
    "SELECT job, avg(gold) AS average,\n",
    "    salt_071({{x}} + sum(bit_xor(hash)) OVER ()) AS token\n",
    "FROM inhabitant\n",
    "GROUP BY job\n",
    "ORDER BY average\n",
    "--> Episode [018]"
   ]
  },
  {
   "cell_type": "code",
   "execution_count": null,
   "id": "89a2e65a",
   "metadata": {},
   "outputs": [],
   "source": [
    "assert col(\"average\")[-1] == x"
   ]
  },
  {
   "cell_type": "markdown",
   "id": "5ada83d0",
   "metadata": {},
   "source": [
    "## `DELETE`"
   ]
  },
  {
   "cell_type": "markdown",
   "id": "6f519693",
   "metadata": {},
   "source": [
    "**Episode [018].** Ok, so the only way is to mug the villains. Or I might as well go ahead and just kill Dirty Dieter with my sword!\n",
    "\n",
    "```sql\n",
    "DELETE FROM inhabitant\n",
    "WHERE name = 'Dirty Dieter'\n",
    "```"
   ]
  },
  {
   "cell_type": "markdown",
   "id": "978e4939",
   "metadata": {},
   "source": [
    "**Statement.** Execute the previous query. Which item is now ownerless?"
   ]
  },
  {
   "cell_type": "code",
   "execution_count": null,
   "id": "168d4ed2",
   "metadata": {},
   "outputs": [
    {
     "data": {
      "text/html": [
       "<span style=\"color: green\">1 rows affected.</span>"
      ],
      "text/plain": [
       "1 rows affected."
      ]
     },
     "metadata": {},
     "output_type": "display_data"
    },
    {
     "data": {
      "text/html": [
       "<span style=\"color: green\">1 rows affected.</span>"
      ],
      "text/plain": [
       "1 rows affected."
      ]
     },
     "metadata": {},
     "output_type": "display_data"
    },
    {
     "data": {
      "text/html": [
       "<table>\n",
       "    <tr>\n",
       "        <th>item</th>\n",
       "        <th>token</th>\n",
       "    </tr>\n",
       "    <tr>\n",
       "        <td>cane</td>\n",
       "        <td>193619246200652</td>\n",
       "    </tr>\n",
       "</table>"
      ]
     },
     "execution_count": null,
     "metadata": {},
     "output_type": "execute_result"
    }
   ],
   "source": [
    "%%sql\n",
    "DELETE\n",
    "FROM inhabitant\n",
    "WHERE name = 'Dirty Dieter';\n",
    "\n",
    "\n",
    "SELECT item,\n",
    "    salt_018(sum(hash) OVER ()) AS token\n",
    "FROM item\n",
    "WHERE OWNER IS NULL\n",
    "--> Episode [004]"
   ]
  },
  {
   "cell_type": "code",
   "execution_count": null,
   "id": "0cfdbdae",
   "metadata": {},
   "outputs": [],
   "source": [
    "assert col(\"item\") == ['cane']"
   ]
  },
  {
   "cell_type": "markdown",
   "id": "9cd8cdce",
   "metadata": {},
   "source": [
    "**Episode [004].** Dirty Diane: Heeeey! Now I'm very angry!\n",
    "\n",
    "What will you do next, Leslie Qualls?"
   ]
  },
  {
   "cell_type": "markdown",
   "id": "7b0d072f",
   "metadata": {},
   "source": [
    "**Statement.** Delete Dirty Diane, and show the table `inhabitant`."
   ]
  },
  {
   "cell_type": "code",
   "execution_count": null,
   "id": "1ffbd6fb",
   "metadata": {},
   "outputs": [
    {
     "data": {
      "text/html": [
       "<span style=\"color: green\">1 rows affected.</span>"
      ],
      "text/plain": [
       "1 rows affected."
      ]
     },
     "metadata": {},
     "output_type": "display_data"
    },
    {
     "data": {
      "text/html": [
       "<span style=\"color: green\">18 rows affected.</span>"
      ],
      "text/plain": [
       "18 rows affected."
      ]
     },
     "metadata": {},
     "output_type": "display_data"
    },
    {
     "data": {
      "text/html": [
       "<table>\n",
       "    <tr>\n",
       "        <th>personid</th>\n",
       "        <th>name</th>\n",
       "        <th>villageid</th>\n",
       "        <th>gender</th>\n",
       "        <th>job</th>\n",
       "        <th>gold</th>\n",
       "        <th>state</th>\n",
       "        <th>hash</th>\n",
       "        <th>token</th>\n",
       "    </tr>\n",
       "    <tr>\n",
       "        <td>1</td>\n",
       "        <td>Paul Bakerman</td>\n",
       "        <td>1</td>\n",
       "        <td>m</td>\n",
       "        <td>baker</td>\n",
       "        <td>850</td>\n",
       "        <td>friendly</td>\n",
       "        <td>667574576304</td>\n",
       "        <td>67594779315675</td>\n",
       "    </tr>\n",
       "    <tr>\n",
       "        <td>2</td>\n",
       "        <td>Ernest Perry</td>\n",
       "        <td>3</td>\n",
       "        <td>m</td>\n",
       "        <td>weaponsmith</td>\n",
       "        <td>280</td>\n",
       "        <td>friendly</td>\n",
       "        <td>73993229357</td>\n",
       "        <td>67594779315675</td>\n",
       "    </tr>\n",
       "    <tr>\n",
       "        <td>3</td>\n",
       "        <td>Rita Ox</td>\n",
       "        <td>1</td>\n",
       "        <td>f</td>\n",
       "        <td>baker</td>\n",
       "        <td>350</td>\n",
       "        <td>friendly</td>\n",
       "        <td>41932111594</td>\n",
       "        <td>67594779315675</td>\n",
       "    </tr>\n",
       "    <tr>\n",
       "        <td>4</td>\n",
       "        <td>Carl Ox</td>\n",
       "        <td>1</td>\n",
       "        <td>m</td>\n",
       "        <td>merchant</td>\n",
       "        <td>250</td>\n",
       "        <td>friendly</td>\n",
       "        <td>843473717421</td>\n",
       "        <td>67594779315675</td>\n",
       "    </tr>\n",
       "    <tr>\n",
       "        <td>6</td>\n",
       "        <td>Gerry Slaughterer</td>\n",
       "        <td>2</td>\n",
       "        <td>m</td>\n",
       "        <td>butcher</td>\n",
       "        <td>4850</td>\n",
       "        <td>evil</td>\n",
       "        <td>872618219253</td>\n",
       "        <td>67594779315675</td>\n",
       "    </tr>\n",
       "    <tr>\n",
       "        <td>7</td>\n",
       "        <td>Peter Slaughterer</td>\n",
       "        <td>3</td>\n",
       "        <td>m</td>\n",
       "        <td>butcher</td>\n",
       "        <td>3250</td>\n",
       "        <td>evil</td>\n",
       "        <td>648197551204</td>\n",
       "        <td>67594779315675</td>\n",
       "    </tr>\n",
       "    <tr>\n",
       "        <td>8</td>\n",
       "        <td>Arthur Tailor</td>\n",
       "        <td>2</td>\n",
       "        <td>m</td>\n",
       "        <td>pilot</td>\n",
       "        <td>490</td>\n",
       "        <td>kidnapped</td>\n",
       "        <td>823379478192</td>\n",
       "        <td>67594779315675</td>\n",
       "    </tr>\n",
       "    <tr>\n",
       "        <td>9</td>\n",
       "        <td>Tiffany Drummer</td>\n",
       "        <td>1</td>\n",
       "        <td>f</td>\n",
       "        <td>baker</td>\n",
       "        <td>550</td>\n",
       "        <td>evil</td>\n",
       "        <td>434738589188</td>\n",
       "        <td>67594779315675</td>\n",
       "    </tr>\n",
       "    <tr>\n",
       "        <td>10</td>\n",
       "        <td>Peter Drummer</td>\n",
       "        <td>1</td>\n",
       "        <td>m</td>\n",
       "        <td>smith</td>\n",
       "        <td>600</td>\n",
       "        <td>friendly</td>\n",
       "        <td>713565808545</td>\n",
       "        <td>67594779315675</td>\n",
       "    </tr>\n",
       "    <tr>\n",
       "        <td>12</td>\n",
       "        <td>Otto Alexander</td>\n",
       "        <td>2</td>\n",
       "        <td>m</td>\n",
       "        <td>dealer</td>\n",
       "        <td>680</td>\n",
       "        <td>friendly</td>\n",
       "        <td>371232179800</td>\n",
       "        <td>67594779315675</td>\n",
       "    </tr>\n",
       "    <tr>\n",
       "        <td>13</td>\n",
       "        <td>Fred Dix</td>\n",
       "        <td>3</td>\n",
       "        <td>m</td>\n",
       "        <td>author</td>\n",
       "        <td>420</td>\n",
       "        <td>friendly</td>\n",
       "        <td>865222686964</td>\n",
       "        <td>67594779315675</td>\n",
       "    </tr>\n",
       "    <tr>\n",
       "        <td>14</td>\n",
       "        <td>Enrico Carpenter</td>\n",
       "        <td>3</td>\n",
       "        <td>m</td>\n",
       "        <td>weaponsmith</td>\n",
       "        <td>510</td>\n",
       "        <td>evil</td>\n",
       "        <td>1052048305797</td>\n",
       "        <td>67594779315675</td>\n",
       "    </tr>\n",
       "    <tr>\n",
       "        <td>15</td>\n",
       "        <td>Helen Grasshead</td>\n",
       "        <td>2</td>\n",
       "        <td>f</td>\n",
       "        <td>dealer</td>\n",
       "        <td>560</td>\n",
       "        <td>friendly</td>\n",
       "        <td>335525955822</td>\n",
       "        <td>67594779315675</td>\n",
       "    </tr>\n",
       "    <tr>\n",
       "        <td>16</td>\n",
       "        <td>Ivy Hatter</td>\n",
       "        <td>1</td>\n",
       "        <td>f</td>\n",
       "        <td>dealer</td>\n",
       "        <td>770</td>\n",
       "        <td>evil</td>\n",
       "        <td>255939466731</td>\n",
       "        <td>67594779315675</td>\n",
       "    </tr>\n",
       "    <tr>\n",
       "        <td>17</td>\n",
       "        <td>Edward Grasshead</td>\n",
       "        <td>3</td>\n",
       "        <td>m</td>\n",
       "        <td>butcher</td>\n",
       "        <td>990</td>\n",
       "        <td>friendly</td>\n",
       "        <td>296311699507</td>\n",
       "        <td>67594779315675</td>\n",
       "    </tr>\n",
       "    <tr>\n",
       "        <td>18</td>\n",
       "        <td>Ryan Horse</td>\n",
       "        <td>3</td>\n",
       "        <td>m</td>\n",
       "        <td>blacksmith</td>\n",
       "        <td>390</td>\n",
       "        <td>friendly</td>\n",
       "        <td>98143389713</td>\n",
       "        <td>67594779315675</td>\n",
       "    </tr>\n",
       "    <tr>\n",
       "        <td>19</td>\n",
       "        <td>Ann Meaty</td>\n",
       "        <td>2</td>\n",
       "        <td>f</td>\n",
       "        <td>butcher</td>\n",
       "        <td>2280</td>\n",
       "        <td>friendly</td>\n",
       "        <td>889525893587</td>\n",
       "        <td>67594779315675</td>\n",
       "    </tr>\n",
       "    <tr>\n",
       "        <td>20</td>\n",
       "        <td>Leslie Qualls</td>\n",
       "        <td>1</td>\n",
       "        <td>?</td>\n",
       "        <td>?</td>\n",
       "        <td>70</td>\n",
       "        <td>?</td>\n",
       "        <td>614837190287</td>\n",
       "        <td>67594779315675</td>\n",
       "    </tr>\n",
       "</table>"
      ]
     },
     "execution_count": null,
     "metadata": {},
     "output_type": "execute_result"
    }
   ],
   "source": [
    "%%sql\n",
    "DELETE\n",
    "FROM inhabitant\n",
    "WHERE name = 'Dirty Diane';\n",
    "\n",
    "\n",
    "SELECT *,\n",
    "    salt_004(sum(hash) OVER ()) AS token\n",
    "FROM inhabitant\n",
    "--> Episode [051]"
   ]
  },
  {
   "cell_type": "code",
   "execution_count": null,
   "id": "eb859cce",
   "metadata": {},
   "outputs": [],
   "source": [
    "assert \"Dirty Diane\" not in col(\"name\")"
   ]
  },
  {
   "cell_type": "markdown",
   "id": "4fc3d103",
   "metadata": {},
   "source": [
    "## Epilog"
   ]
  },
  {
   "cell_type": "markdown",
   "id": "3866764d",
   "metadata": {},
   "source": [
    "**Episode [051].**\n",
    "\n",
    "– Yeah! Now I release the pilot!<br>\n",
    "– Thank's for releasing me, Leslie Qualls! I will fly you home!<br>\n",
    "– I take my sword, some gold and lots of useless items with me as a souvenir."
   ]
  },
  {
   "cell_type": "markdown",
   "id": "a1641cc0",
   "metadata": {},
   "source": [
    "**Statement.** Change the pilot's status to 'friendly', your own status to 'emigrated', and show the table `inhabitant`."
   ]
  },
  {
   "cell_type": "code",
   "execution_count": null,
   "id": "ab22f466",
   "metadata": {},
   "outputs": [
    {
     "data": {
      "text/html": [
       "<span style=\"color: green\">1 rows affected.</span>"
      ],
      "text/plain": [
       "1 rows affected."
      ]
     },
     "metadata": {},
     "output_type": "display_data"
    },
    {
     "data": {
      "text/html": [
       "<span style=\"color: green\">1 rows affected.</span>"
      ],
      "text/plain": [
       "1 rows affected."
      ]
     },
     "metadata": {},
     "output_type": "display_data"
    },
    {
     "data": {
      "text/html": [
       "<span style=\"color: green\">18 rows affected.</span>"
      ],
      "text/plain": [
       "18 rows affected."
      ]
     },
     "metadata": {},
     "output_type": "display_data"
    },
    {
     "data": {
      "text/html": [
       "<table>\n",
       "    <tr>\n",
       "        <th>personid</th>\n",
       "        <th>name</th>\n",
       "        <th>villageid</th>\n",
       "        <th>gender</th>\n",
       "        <th>job</th>\n",
       "        <th>gold</th>\n",
       "        <th>state</th>\n",
       "        <th>hash</th>\n",
       "        <th>token</th>\n",
       "    </tr>\n",
       "    <tr>\n",
       "        <td>1</td>\n",
       "        <td>Paul Bakerman</td>\n",
       "        <td>1</td>\n",
       "        <td>m</td>\n",
       "        <td>baker</td>\n",
       "        <td>850</td>\n",
       "        <td>friendly</td>\n",
       "        <td>667574576304</td>\n",
       "        <td>226162284926311</td>\n",
       "    </tr>\n",
       "    <tr>\n",
       "        <td>2</td>\n",
       "        <td>Ernest Perry</td>\n",
       "        <td>3</td>\n",
       "        <td>m</td>\n",
       "        <td>weaponsmith</td>\n",
       "        <td>280</td>\n",
       "        <td>friendly</td>\n",
       "        <td>73993229357</td>\n",
       "        <td>226162284926311</td>\n",
       "    </tr>\n",
       "    <tr>\n",
       "        <td>3</td>\n",
       "        <td>Rita Ox</td>\n",
       "        <td>1</td>\n",
       "        <td>f</td>\n",
       "        <td>baker</td>\n",
       "        <td>350</td>\n",
       "        <td>friendly</td>\n",
       "        <td>41932111594</td>\n",
       "        <td>226162284926311</td>\n",
       "    </tr>\n",
       "    <tr>\n",
       "        <td>4</td>\n",
       "        <td>Carl Ox</td>\n",
       "        <td>1</td>\n",
       "        <td>m</td>\n",
       "        <td>merchant</td>\n",
       "        <td>250</td>\n",
       "        <td>friendly</td>\n",
       "        <td>843473717421</td>\n",
       "        <td>226162284926311</td>\n",
       "    </tr>\n",
       "    <tr>\n",
       "        <td>6</td>\n",
       "        <td>Gerry Slaughterer</td>\n",
       "        <td>2</td>\n",
       "        <td>m</td>\n",
       "        <td>butcher</td>\n",
       "        <td>4850</td>\n",
       "        <td>evil</td>\n",
       "        <td>872618219253</td>\n",
       "        <td>226162284926311</td>\n",
       "    </tr>\n",
       "    <tr>\n",
       "        <td>7</td>\n",
       "        <td>Peter Slaughterer</td>\n",
       "        <td>3</td>\n",
       "        <td>m</td>\n",
       "        <td>butcher</td>\n",
       "        <td>3250</td>\n",
       "        <td>evil</td>\n",
       "        <td>648197551204</td>\n",
       "        <td>226162284926311</td>\n",
       "    </tr>\n",
       "    <tr>\n",
       "        <td>8</td>\n",
       "        <td>Arthur Tailor</td>\n",
       "        <td>2</td>\n",
       "        <td>m</td>\n",
       "        <td>pilot</td>\n",
       "        <td>490</td>\n",
       "        <td>friendly</td>\n",
       "        <td>162008019122</td>\n",
       "        <td>226162284926311</td>\n",
       "    </tr>\n",
       "    <tr>\n",
       "        <td>9</td>\n",
       "        <td>Tiffany Drummer</td>\n",
       "        <td>1</td>\n",
       "        <td>f</td>\n",
       "        <td>baker</td>\n",
       "        <td>550</td>\n",
       "        <td>evil</td>\n",
       "        <td>434738589188</td>\n",
       "        <td>226162284926311</td>\n",
       "    </tr>\n",
       "    <tr>\n",
       "        <td>10</td>\n",
       "        <td>Peter Drummer</td>\n",
       "        <td>1</td>\n",
       "        <td>m</td>\n",
       "        <td>smith</td>\n",
       "        <td>600</td>\n",
       "        <td>friendly</td>\n",
       "        <td>713565808545</td>\n",
       "        <td>226162284926311</td>\n",
       "    </tr>\n",
       "    <tr>\n",
       "        <td>12</td>\n",
       "        <td>Otto Alexander</td>\n",
       "        <td>2</td>\n",
       "        <td>m</td>\n",
       "        <td>dealer</td>\n",
       "        <td>680</td>\n",
       "        <td>friendly</td>\n",
       "        <td>371232179800</td>\n",
       "        <td>226162284926311</td>\n",
       "    </tr>\n",
       "    <tr>\n",
       "        <td>13</td>\n",
       "        <td>Fred Dix</td>\n",
       "        <td>3</td>\n",
       "        <td>m</td>\n",
       "        <td>author</td>\n",
       "        <td>420</td>\n",
       "        <td>friendly</td>\n",
       "        <td>865222686964</td>\n",
       "        <td>226162284926311</td>\n",
       "    </tr>\n",
       "    <tr>\n",
       "        <td>14</td>\n",
       "        <td>Enrico Carpenter</td>\n",
       "        <td>3</td>\n",
       "        <td>m</td>\n",
       "        <td>weaponsmith</td>\n",
       "        <td>510</td>\n",
       "        <td>evil</td>\n",
       "        <td>1052048305797</td>\n",
       "        <td>226162284926311</td>\n",
       "    </tr>\n",
       "    <tr>\n",
       "        <td>15</td>\n",
       "        <td>Helen Grasshead</td>\n",
       "        <td>2</td>\n",
       "        <td>f</td>\n",
       "        <td>dealer</td>\n",
       "        <td>560</td>\n",
       "        <td>friendly</td>\n",
       "        <td>335525955822</td>\n",
       "        <td>226162284926311</td>\n",
       "    </tr>\n",
       "    <tr>\n",
       "        <td>16</td>\n",
       "        <td>Ivy Hatter</td>\n",
       "        <td>1</td>\n",
       "        <td>f</td>\n",
       "        <td>dealer</td>\n",
       "        <td>770</td>\n",
       "        <td>evil</td>\n",
       "        <td>255939466731</td>\n",
       "        <td>226162284926311</td>\n",
       "    </tr>\n",
       "    <tr>\n",
       "        <td>17</td>\n",
       "        <td>Edward Grasshead</td>\n",
       "        <td>3</td>\n",
       "        <td>m</td>\n",
       "        <td>butcher</td>\n",
       "        <td>990</td>\n",
       "        <td>friendly</td>\n",
       "        <td>296311699507</td>\n",
       "        <td>226162284926311</td>\n",
       "    </tr>\n",
       "    <tr>\n",
       "        <td>18</td>\n",
       "        <td>Ryan Horse</td>\n",
       "        <td>3</td>\n",
       "        <td>m</td>\n",
       "        <td>blacksmith</td>\n",
       "        <td>390</td>\n",
       "        <td>friendly</td>\n",
       "        <td>98143389713</td>\n",
       "        <td>226162284926311</td>\n",
       "    </tr>\n",
       "    <tr>\n",
       "        <td>19</td>\n",
       "        <td>Ann Meaty</td>\n",
       "        <td>2</td>\n",
       "        <td>f</td>\n",
       "        <td>butcher</td>\n",
       "        <td>2280</td>\n",
       "        <td>friendly</td>\n",
       "        <td>889525893587</td>\n",
       "        <td>226162284926311</td>\n",
       "    </tr>\n",
       "    <tr>\n",
       "        <td>20</td>\n",
       "        <td>Leslie Qualls</td>\n",
       "        <td>1</td>\n",
       "        <td>?</td>\n",
       "        <td>?</td>\n",
       "        <td>70</td>\n",
       "        <td>emigrated</td>\n",
       "        <td>936715302546</td>\n",
       "        <td>226162284926311</td>\n",
       "    </tr>\n",
       "</table>"
      ]
     },
     "execution_count": null,
     "metadata": {},
     "output_type": "execute_result"
    }
   ],
   "source": [
    "%%sql\n",
    "UPDATE inhabitant\n",
    "SET state = 'emigrated'\n",
    "WHERE personid = 20;\n",
    "\n",
    "\n",
    "UPDATE inhabitant\n",
    "SET state = 'friendly'\n",
    "WHERE job = 'pilot';\n",
    "\n",
    "\n",
    "SELECT *,\n",
    "    salt_051(sum(hash) OVER ()) AS token\n",
    "FROM inhabitant;\n",
    "--> Episode [049]"
   ]
  },
  {
   "cell_type": "markdown",
   "id": "b9b7791a",
   "metadata": {},
   "source": [
    "**Episode [049].** You have completed SQL Island. What a big adventure!"
   ]
  }
 ],
 "metadata": {
  "hide_input": false,
  "kernelspec": {
   "display_name": "Python 3 (ipykernel)",
   "language": "python",
   "name": "python3"
  },
  "language_info": {
   "codemirror_mode": {
    "name": "ipython",
    "version": 3
   },
   "file_extension": ".py",
   "mimetype": "text/x-python",
   "name": "python",
   "nbconvert_exporter": "python",
   "pygments_lexer": "ipython3",
   "version": "3.9.13"
  },
  "toc": {
   "base_numbering": 1,
   "nav_menu": {},
   "number_sections": true,
   "sideBar": true,
   "skip_h1_title": false,
   "title_cell": "Table of Contents",
   "title_sidebar": "SQL Island",
   "toc_cell": false,
   "toc_position": {
    "height": "calc(100% - 180px)",
    "left": "10px",
    "top": "150px",
    "width": "350.336px"
   },
   "toc_section_display": true,
   "toc_window_display": true
  },
  "varInspector": {
   "cols": {
    "lenName": 16,
    "lenType": 16,
    "lenVar": 40
   },
   "kernels_config": {
    "python": {
     "delete_cmd_postfix": "",
     "delete_cmd_prefix": "del ",
     "library": "var_list.py",
     "varRefreshCmd": "print(var_dic_list())"
    },
    "r": {
     "delete_cmd_postfix": ") ",
     "delete_cmd_prefix": "rm(",
     "library": "var_list.r",
     "varRefreshCmd": "cat(var_dic_list()) "
    }
   },
   "types_to_exclude": [
    "module",
    "function",
    "builtin_function_or_method",
    "instance",
    "_Feature"
   ],
   "window_display": false
  }
 },
 "nbformat": 4,
 "nbformat_minor": 5
}
